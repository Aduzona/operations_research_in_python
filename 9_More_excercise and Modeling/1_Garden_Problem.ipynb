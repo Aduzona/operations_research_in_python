{
 "cells": [
  {
   "cell_type": "markdown",
   "source": [
    "# NLP\r\n",
    "\r\n",
    "$$\\max x*y$$\r\n",
    "s.t.\r\n",
    "\r\n",
    "$$2x+y \\le 100 $$\r\n",
    "$$x,y>0$$\r\n",
    "$$x,y \\in \\mathbb R $$"
   ],
   "metadata": {}
  },
  {
   "cell_type": "code",
   "execution_count": 1,
   "source": [
    "import pyomo.environ as pyo\r\n",
    "from pyomo.opt import SolverFactory"
   ],
   "outputs": [],
   "metadata": {}
  },
  {
   "cell_type": "code",
   "execution_count": 6,
   "source": [
    "\r\n",
    "model = pyo.ConcreteModel()\r\n",
    "model.x=pyo.Var(bounds=(0,None))\r\n",
    "x=model.x\r\n",
    "model.y=pyo.Var(bounds=(0,None))\r\n",
    "y=model.y"
   ],
   "outputs": [],
   "metadata": {}
  },
  {
   "cell_type": "code",
   "execution_count": 7,
   "source": [
    "model.obj=pyo.Objective(expr=x*y, sense=pyo.maximize)\r\n",
    "model.C=pyo.Constraint(expr=2*x + y <= 100)"
   ],
   "outputs": [],
   "metadata": {}
  },
  {
   "cell_type": "code",
   "execution_count": 8,
   "source": [
    "opt = SolverFactory('ipopt', executable='C:\\\\ipopt\\\\bin\\\\ipopt.exe')\r\n",
    "opt.solve(model)\r\n",
    "\r\n",
    "#model.pprint()\r\n",
    "\r\n",
    "x_value = pyo.value(x)\r\n",
    "y_value = pyo.value(y)\r\n",
    "\r\n",
    "print('\\n---------------------------------------------------------------------')\r\n",
    "print('x=',x_value)\r\n",
    "print('y=',y_value)"
   ],
   "outputs": [
    {
     "output_type": "stream",
     "name": "stdout",
     "text": [
      "\n",
      "---------------------------------------------------------------------\n",
      "x= 25.000000249974946\n",
      "y= 50.00000049994987\n"
     ]
    }
   ],
   "metadata": {}
  },
  {
   "cell_type": "code",
   "execution_count": 9,
   "source": [
    "print('Objective:',pyo.value(model.obj))"
   ],
   "outputs": [
    {
     "output_type": "stream",
     "name": "stdout",
     "text": [
      "Objective: 1250.0000249974942\n"
     ]
    }
   ],
   "metadata": {}
  }
 ],
 "metadata": {
  "orig_nbformat": 4,
  "language_info": {
   "name": "python",
   "version": "3.7.6",
   "mimetype": "text/x-python",
   "codemirror_mode": {
    "name": "ipython",
    "version": 3
   },
   "pygments_lexer": "ipython3",
   "nbconvert_exporter": "python",
   "file_extension": ".py"
  },
  "kernelspec": {
   "name": "python3",
   "display_name": "Python 3.7.6 64-bit ('base': conda)"
  },
  "interpreter": {
   "hash": "60062bfbbdb55d7c70b884c78dba17d93f7bddb21846b67229a99cf865725014"
  }
 },
 "nbformat": 4,
 "nbformat_minor": 2
}