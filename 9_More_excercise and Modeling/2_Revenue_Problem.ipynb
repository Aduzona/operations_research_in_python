{
 "cells": [
  {
   "cell_type": "markdown",
   "source": [
    "# MINLP"
   ],
   "metadata": {}
  },
  {
   "cell_type": "code",
   "execution_count": 1,
   "source": [
    "import pyomo.environ as pyo, numpy as np\r\n",
    "from pyomo.opt import SolverFactory"
   ],
   "outputs": [],
   "metadata": {}
  },
  {
   "cell_type": "code",
   "execution_count": 2,
   "source": [
    "model = pyo.ConcreteModel()\r\n",
    "model.N=pyo.Var(within=pyo.Integers,bounds=(0,None))\r\n",
    "N=model.N \r\n",
    "\r\n",
    "model.p=pyo.Var(bounds=(50,200))\r\n",
    "p=model.p"
   ],
   "outputs": [],
   "metadata": {}
  },
  {
   "cell_type": "code",
   "execution_count": 3,
   "source": [
    "model.obj=pyo.Objective(expr=N*p,sense=pyo.maximize)"
   ],
   "outputs": [],
   "metadata": {}
  },
  {
   "cell_type": "code",
   "execution_count": 4,
   "source": [
    "model.C=pyo.Constraint(expr=N==1001-5*p)"
   ],
   "outputs": [],
   "metadata": {}
  },
  {
   "cell_type": "code",
   "execution_count": 5,
   "source": [
    "opt = SolverFactory('couenne', executable='C:\\\\couenne\\\\bin\\\\couenne.exe')\r\n",
    "opt.solve(model,tee=True)\r\n",
    "\r\n",
    "#model.pprint()"
   ],
   "outputs": [
    {
     "output_type": "stream",
     "name": "stdout",
     "text": [
      "Couenne 0.5.6 -- an Open-Source solver for Mixed Integer Nonlinear Optimization\n",
      "Mailing list: couenne@list.coin-or.org\n",
      "Instructions: http://www.coin-or.org/Couenne\n",
      "couenne: \n",
      "ANALYSIS TEST: NLP0012I \n",
      "              Num      Status      Obj             It       time                 Location\n",
      "NLP0014I             1         OPT -50100.05        8 0.16\n",
      "Couenne: new cutoff value -5.0100000000e+004 (0.175 seconds)\n",
      "NLP0014I             2         OPT -50100        1 0.001\n",
      "Loaded instance \"C:\\Users\\aduzo\\AppData\\Local\\Temp\\tmpmzlp0b9t.pyomo.nl\"\n",
      "Constraints:            1\n",
      "Variables:              2 (1 integer)\n",
      "Auxiliaries:            2 (0 integer)\n",
      "\n",
      "Coin0506I Presolve 2 (-4) rows, 2 (-2) columns and 4 (-12) elements\n",
      "Clp0006I 0  Obj -50099.99 Primal inf 0.10001649 (1) Dual inf 19.529747 (1)\n",
      "Clp0006I 2  Obj -50632.225\n",
      "Clp0000I Optimal - objective value -50632.225\n",
      "Clp0032I Optimal objective -50632.22453 - 2 iterations time 0.002, Presolve 0.00\n",
      "Clp0000I Optimal - objective value -50632.225\n",
      "NLP Heuristic: NLP0014I             3         OPT -50098.8        1 0.002\n",
      "no solution.\n",
      "Clp0000I Optimal - objective value -50632.225\n",
      "Optimality Based BT: 2 improved bounds\n",
      "Probing: 2 improved bounds\n",
      "NLP Heuristic: time limit reached.\n",
      "Cbc0031I 1 added rows had average density of 3\n",
      "Cbc0013I At root node, 1 cuts changed objective from -50632.225 to -50100.2 in 2 passes\n",
      "Cbc0014I Cut generator 0 (Couenne convexifier cuts) - 1 row cuts average 3.0 elements, 3 column cuts (3 active)\n",
      "Cbc0010I After 0 nodes, 1 on tree, 1e+050 best solution, best possible -1.7976931e+308 (0.02 seconds)\n",
      "Optimality Based BT: 0 improved bounds\n",
      "Cbc0004I Integer solution of -50100 found after 4 iterations and 1 nodes (0.02 seconds)\n",
      "Cbc0001I Search completed - best objective -50099.99999999999, took 5 iterations and 2 nodes (0.02 seconds)\n",
      "Cbc0035I Maximum depth 0, 0 variables fixed on reduced cost\n",
      "\b\n",
      " \t\"Finished\"\n",
      "\n",
      "Linearization cuts added at root node:          6\n",
      "Linearization cuts added in total:              6  (separation time: 0s)\n",
      "Total solve time:                           0.024s (0.024s in branch-and-bound)\n",
      "Lower bound:                               -50100\n",
      "Upper bound:                               -50100  (gap: 0.00%)\n",
      "Branch-and-bound nodes:                         2\n"
     ]
    },
    {
     "output_type": "execute_result",
     "data": {
      "text/plain": [
       "{'Problem': [{'Lower bound': -inf, 'Upper bound': inf, 'Number of objectives': 1, 'Number of constraints': 0, 'Number of variables': 2, 'Sense': 'unknown'}], 'Solver': [{'Status': 'ok', 'Message': 'couenne\\\\x3a Optimal', 'Termination condition': 'optimal', 'Id': 3, 'Error rc': 0, 'Time': 20.234102725982666}], 'Solution': [OrderedDict([('number of solutions', 0), ('number of solutions displayed', 0)])]}"
      ]
     },
     "metadata": {},
     "execution_count": 5
    }
   ],
   "metadata": {}
  },
  {
   "cell_type": "code",
   "execution_count": 6,
   "source": [
    "p_value = pyo.value(p)\r\n",
    "N_value = pyo.value(N)\r\n",
    "\r\n",
    "print('\\n---------------------------------------------------------------------')\r\n",
    "print('p=',np.round(p_value,2))\r\n",
    "print('N=',N_value)"
   ],
   "outputs": [
    {
     "output_type": "stream",
     "name": "stdout",
     "text": [
      "\n",
      "---------------------------------------------------------------------\n",
      "p= 99.99999999999999\n",
      "N= 501.0\n"
     ]
    }
   ],
   "metadata": {}
  },
  {
   "cell_type": "code",
   "execution_count": 7,
   "source": [
    "print('Objective=',np.round(pyo.value(model.obj),2))"
   ],
   "outputs": [
    {
     "output_type": "stream",
     "name": "stdout",
     "text": [
      "Objective= 50099.99999999999\n"
     ]
    }
   ],
   "metadata": {}
  }
 ],
 "metadata": {
  "orig_nbformat": 4,
  "language_info": {
   "name": "python",
   "version": "3.7.6",
   "mimetype": "text/x-python",
   "codemirror_mode": {
    "name": "ipython",
    "version": 3
   },
   "pygments_lexer": "ipython3",
   "nbconvert_exporter": "python",
   "file_extension": ".py"
  },
  "kernelspec": {
   "name": "python3",
   "display_name": "Python 3.7.6 64-bit ('base': conda)"
  },
  "interpreter": {
   "hash": "60062bfbbdb55d7c70b884c78dba17d93f7bddb21846b67229a99cf865725014"
  }
 },
 "nbformat": 4,
 "nbformat_minor": 2
}