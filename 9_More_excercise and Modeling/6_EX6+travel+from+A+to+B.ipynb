{
 "cells": [
  {
   "cell_type": "markdown",
   "source": [
    "[Check Fastest Route](6_EX6.pdf) in local directory"
   ],
   "metadata": {}
  },
  {
   "cell_type": "code",
   "execution_count": 1,
   "source": [
    "from pyomo.environ import *\r\n",
    "import numpy as np\r\n",
    "# max f1 = 2rcos(theta)/V1+r2theta/V2 <br>\r\n",
    "# 0<theta<pi/2 \r\n",
    "#find the min time to travel from A to B"
   ],
   "outputs": [],
   "metadata": {}
  },
  {
   "cell_type": "code",
   "execution_count": 2,
   "source": [
    "model = ConcreteModel()\r\n",
    "model.r=Param(initialize=10)\r\n",
    "model.V1=Param(initialize=4)\r\n",
    "model.V2=Param(initialize=3)\r\n",
    "\r\n",
    "model.r.pprint()\r\n",
    "model.V1.pprint()\r\n",
    "model.V2.pprint()"
   ],
   "outputs": [
    {
     "output_type": "stream",
     "name": "stdout",
     "text": [
      "r : Size=1, Index=None, Domain=Any, Default=None, Mutable=False\n",
      "    Key  : Value\n",
      "    None :    10\n",
      "V1 : Size=1, Index=None, Domain=Any, Default=None, Mutable=False\n",
      "    Key  : Value\n",
      "    None :     4\n",
      "V2 : Size=1, Index=None, Domain=Any, Default=None, Mutable=False\n",
      "    Key  : Value\n",
      "    None :     3\n"
     ]
    }
   ],
   "metadata": {}
  },
  {
   "cell_type": "code",
   "execution_count": 3,
   "source": [
    "model.theta=Var(bounds=(0,np.pi/2), initialize=np.pi/3)\r\n",
    "model.OF=Objective(expr=2*model.r*cos(model.theta)/model.V1+ 2*model.theta*model.r/model.V2,sense=minimize )"
   ],
   "outputs": [],
   "metadata": {}
  },
  {
   "cell_type": "code",
   "execution_count": 4,
   "source": [
    "solver = SolverFactory('ipopt')\r\n",
    "results=solver.solve(model);"
   ],
   "outputs": [],
   "metadata": {}
  },
  {
   "cell_type": "code",
   "execution_count": 5,
   "source": [
    "print('therta= ',round(value(model.theta)*180/np.pi))\r\n",
    "print('OF= ',round(value(model.OF),2))"
   ],
   "outputs": [
    {
     "output_type": "stream",
     "name": "stdout",
     "text": [
      "therta=  0\n",
      "OF=  5.0\n"
     ]
    }
   ],
   "metadata": {}
  },
  {
   "cell_type": "code",
   "execution_count": null,
   "source": [],
   "outputs": [],
   "metadata": {}
  }
 ],
 "metadata": {
  "kernelspec": {
   "name": "python3",
   "display_name": "Python 3.7.6 64-bit ('base': conda)"
  },
  "language_info": {
   "codemirror_mode": {
    "name": "ipython",
    "version": 3
   },
   "file_extension": ".py",
   "mimetype": "text/x-python",
   "name": "python",
   "nbconvert_exporter": "python",
   "pygments_lexer": "ipython3",
   "version": "3.7.6"
  },
  "interpreter": {
   "hash": "60062bfbbdb55d7c70b884c78dba17d93f7bddb21846b67229a99cf865725014"
  }
 },
 "nbformat": 4,
 "nbformat_minor": 4
}