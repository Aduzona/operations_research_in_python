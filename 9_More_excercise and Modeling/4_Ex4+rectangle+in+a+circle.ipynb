{
 "cells": [
  {
   "cell_type": "code",
   "execution_count": 1,
   "source": [
    "from pyomo.environ import *\r\n",
    "# max f1 = 4XY <br>\r\n",
    "# st  X^2+Y^2=R^2\r\n",
    "# 0<X,Y<R\r\n",
    "#find the maximum area of a rectangle in a circle "
   ],
   "outputs": [],
   "metadata": {}
  },
  {
   "cell_type": "markdown",
   "source": [
    "$$\\max_{x,y} OF = 4xy$$\r\n",
    "s.t.\r\n",
    "$$x^2 +y^2=R^2$$\r\n",
    "$$0\\le x \\le R $$\r\n",
    "$$0\\le y \\le R $$\r\n",
    "\r\n",
    "## Concrete Model\r\n",
    "## NLP Problem use IPOPT"
   ],
   "metadata": {}
  },
  {
   "cell_type": "code",
   "execution_count": 2,
   "source": [
    "model = ConcreteModel()\r\n",
    "model.R=Param(initialize=10)\r\n",
    "model.x=Var(bounds=(0,model.R), initialize=model.R)\r\n",
    "model.y=Var(bounds=(0,model.R), initialize=model.R)\r\n",
    "model.x.pprint()\r\n",
    "model.y.pprint()"
   ],
   "outputs": [],
   "metadata": {}
  },
  {
   "cell_type": "code",
   "execution_count": null,
   "source": [
    "\r\n",
    "model.C1=Constraint(expr=model.x**2+model.y**2==model.R**2)\r\n",
    "model.f1=Objective(expr=4*model.x*model.y,sense=maximize)"
   ],
   "outputs": [],
   "metadata": {}
  },
  {
   "cell_type": "code",
   "execution_count": 3,
   "source": [
    "opt = SolverFactory('ipopt')\r\n",
    "results=opt.solve(model)"
   ],
   "outputs": [],
   "metadata": {}
  },
  {
   "cell_type": "code",
   "execution_count": 4,
   "source": [
    "print('x= ',round(value(model.x),3))\r\n",
    "print('y= ',round(value(model.y),3))\r\n",
    "print('OF= ',round(value(model.f1),3) )"
   ],
   "outputs": [
    {
     "output_type": "stream",
     "name": "stdout",
     "text": [
      "x=  7.071\n",
      "y=  7.071\n",
      "OF=  200.0\n"
     ]
    }
   ],
   "metadata": {}
  },
  {
   "cell_type": "code",
   "execution_count": 5,
   "source": [
    "model.x.fix(1)# fix x=1 \r\n",
    "model.x.pprint()"
   ],
   "outputs": [
    {
     "output_type": "stream",
     "name": "stdout",
     "text": [
      "x : Size=1, Index=None\n",
      "    Key  : Lower : Value : Upper : Fixed : Stale : Domain\n",
      "    None :     0 :     1 :    10 :  True : False :  Reals\n"
     ]
    }
   ],
   "metadata": {}
  },
  {
   "cell_type": "code",
   "execution_count": 6,
   "source": [
    "model.y.pprint()"
   ],
   "outputs": [
    {
     "output_type": "stream",
     "name": "stdout",
     "text": [
      "y : Size=1, Index=None\n",
      "    Key  : Lower : Value             : Upper : Fixed : Stale : Domain\n",
      "    None :     0 : 7.071067811865475 :    10 : False : False :  Reals\n"
     ]
    }
   ],
   "metadata": {}
  },
  {
   "cell_type": "code",
   "execution_count": 7,
   "source": [
    "\r\n",
    "results=opt.solve(model)"
   ],
   "outputs": [],
   "metadata": {}
  },
  {
   "cell_type": "code",
   "execution_count": 8,
   "source": [
    "print('x= ',round(value(model.x),3))\r\n",
    "print('y= ',round(value(model.y),3))\r\n",
    "print('OF= ',round(value(model.f1),3) )"
   ],
   "outputs": [
    {
     "output_type": "stream",
     "name": "stdout",
     "text": [
      "x=  1\n",
      "y=  9.95\n",
      "OF=  39.799\n"
     ]
    }
   ],
   "metadata": {}
  },
  {
   "cell_type": "code",
   "execution_count": 9,
   "source": [
    "# If y=1, what is x?\r\n",
    "model.x.unfix()\r\n",
    "model.y.fix(1)\r\n",
    "results=opt.solve(model)"
   ],
   "outputs": [],
   "metadata": {}
  },
  {
   "cell_type": "code",
   "execution_count": 10,
   "source": [
    "print('x= ',round(value(model.x),3))\r\n",
    "print('y= ',round(value(model.y),3))\r\n",
    "print('OF= ',round(value(model.f1),3) )"
   ],
   "outputs": [
    {
     "output_type": "stream",
     "name": "stdout",
     "text": [
      "x=  9.95\n",
      "y=  1\n",
      "OF=  39.799\n"
     ]
    }
   ],
   "metadata": {}
  },
  {
   "cell_type": "code",
   "execution_count": 11,
   "source": [
    "model.x.unfix()\r\n",
    "model.y.unfix()\r\n",
    "results=opt.solve(model)"
   ],
   "outputs": [],
   "metadata": {}
  },
  {
   "cell_type": "code",
   "execution_count": 12,
   "source": [
    "print(results)"
   ],
   "outputs": [
    {
     "output_type": "stream",
     "name": "stdout",
     "text": [
      "\n",
      "Problem: \n",
      "- Lower bound: -inf\n",
      "  Upper bound: inf\n",
      "  Number of objectives: 1\n",
      "  Number of constraints: 1\n",
      "  Number of variables: 2\n",
      "  Sense: unknown\n",
      "Solver: \n",
      "- Status: ok\n",
      "  Message: Ipopt 3.11.1\\x3a Optimal Solution Found\n",
      "  Termination condition: optimal\n",
      "  Id: 0\n",
      "  Error rc: 0\n",
      "  Time: 0.22539877891540527\n",
      "Solution: \n",
      "- number of solutions: 0\n",
      "  number of solutions displayed: 0\n",
      "\n"
     ]
    }
   ],
   "metadata": {}
  },
  {
   "cell_type": "code",
   "execution_count": 14,
   "source": [
    "model.x.pprint()\r\n",
    "model.y.pprint()"
   ],
   "outputs": [
    {
     "output_type": "stream",
     "name": "stdout",
     "text": [
      "x : Size=1, Index=None\n",
      "    Key  : Lower : Value             : Upper : Fixed : Stale : Domain\n",
      "    None :     0 : 7.071067811865475 :    10 : False : False :  Reals\n",
      "y : Size=1, Index=None\n",
      "    Key  : Lower : Value             : Upper : Fixed : Stale : Domain\n",
      "    None :     0 : 7.071067811865475 :    10 : False : False :  Reals\n"
     ]
    }
   ],
   "metadata": {}
  }
 ],
 "metadata": {
  "kernelspec": {
   "name": "python3",
   "display_name": "Python 3.7.6 64-bit ('base': conda)"
  },
  "language_info": {
   "codemirror_mode": {
    "name": "ipython",
    "version": 3
   },
   "file_extension": ".py",
   "mimetype": "text/x-python",
   "name": "python",
   "nbconvert_exporter": "python",
   "pygments_lexer": "ipython3",
   "version": "3.7.6"
  },
  "interpreter": {
   "hash": "60062bfbbdb55d7c70b884c78dba17d93f7bddb21846b67229a99cf865725014"
  }
 },
 "nbformat": 4,
 "nbformat_minor": 4
}