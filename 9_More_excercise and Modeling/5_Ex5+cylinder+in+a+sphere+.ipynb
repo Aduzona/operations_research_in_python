{
 "cells": [
  {
   "cell_type": "markdown",
   "source": [
    "[Check pdf](5_EX5.pdf)"
   ],
   "metadata": {}
  },
  {
   "cell_type": "code",
   "execution_count": 1,
   "source": [
    "from pyomo.environ import *\r\n",
    "import numpy as np\r\n",
    "# max f1 = 2*pi*r^2*h \r\n",
    "# h^2+r^2 =R^2 \r\n",
    "# 0<h<R\r\n",
    "# 0<r<R\r\n",
    "# find the maximum volume of a cylinder in a sphere "
   ],
   "outputs": [],
   "metadata": {}
  },
  {
   "cell_type": "markdown",
   "source": [
    "* Volume of cylinder is $\\pi xr^2h$\r\n",
    "* OF is the 2* volume of a cylinder\r\n",
    "* r= reduce of cylinder circle\r\n",
    "* R= Reduce of bigger circle which is same as hypothenus of a triangle.\r\n",
    "\r\n",
    "\r\n",
    "$$OF=\\max_{r,h} OF = 2 \\pi xr^2h$$\r\n",
    "s.t.\r\n",
    "\r\n",
    "* Hypothenus of a rectangle $R= \\sqrt (r^2 +h^2)$\r\n",
    "$$r^2 +h^2=R^2$$\r\n",
    "$$0\\le r \\le R $$\r\n",
    "$$0\\le h \\le R $$\r\n",
    "\r\n",
    "## Concrete Model\r\n",
    "## NLP Problem use IPOPT"
   ],
   "metadata": {}
  },
  {
   "cell_type": "code",
   "execution_count": 2,
   "source": [
    "model = ConcreteModel()\r\n",
    "model.R=Param(initialize=1)\r\n",
    "model.h=Var(bounds=(0,model.R), initialize=model.R)\r\n",
    "model.r=Var(bounds=(0,model.R), initialize=model.R)\r\n",
    "model.R.pprint()\r\n",
    "model.h.pprint()\r\n",
    "model.r.pprint()"
   ],
   "outputs": [
    {
     "output_type": "stream",
     "name": "stdout",
     "text": [
      "R : Size=1, Index=None, Domain=Any, Default=None, Mutable=False\n",
      "    Key  : Value\n",
      "    None :     1\n",
      "h : Size=1, Index=None\n",
      "    Key  : Lower : Value : Upper : Fixed : Stale : Domain\n",
      "    None :     0 :     1 :     1 : False : False :  Reals\n",
      "r : Size=1, Index=None\n",
      "    Key  : Lower : Value : Upper : Fixed : Stale : Domain\n",
      "    None :     0 :     1 :     1 : False : False :  Reals\n"
     ]
    }
   ],
   "metadata": {}
  },
  {
   "cell_type": "code",
   "execution_count": 3,
   "source": [
    "model.C=Constraint(expr=model.r**2+model.h**2==model.R**2)\r\n",
    "model.OF=Objective(expr=2*np.pi*(model.r**2)*model.h,sense=maximize)"
   ],
   "outputs": [],
   "metadata": {}
  },
  {
   "cell_type": "code",
   "execution_count": 4,
   "source": [
    "solver = SolverFactory('ipopt')\r\n",
    "results=solver.solve(model)"
   ],
   "outputs": [],
   "metadata": {}
  },
  {
   "cell_type": "code",
   "execution_count": 5,
   "source": [
    "print('r=' ,round(value(model.r),2))\r\n",
    "print('h=' ,round(value(model.h),2))\r\n",
    "print('OF=',round(value(model.OF),2))"
   ],
   "outputs": [
    {
     "output_type": "stream",
     "name": "stdout",
     "text": [
      "r= 0.82\n",
      "h= 0.58\n",
      "OF= 2.42\n"
     ]
    }
   ],
   "metadata": {}
  },
  {
   "cell_type": "code",
   "execution_count": 6,
   "source": [
    "print('r=' ,value(model.r))\r\n"
   ],
   "outputs": [
    {
     "output_type": "stream",
     "name": "stdout",
     "text": [
      "r= 0.8164965807359517\n"
     ]
    }
   ],
   "metadata": {}
  },
  {
   "cell_type": "code",
   "execution_count": null,
   "source": [],
   "outputs": [],
   "metadata": {}
  }
 ],
 "metadata": {
  "kernelspec": {
   "name": "python3",
   "display_name": "Python 3.7.6 64-bit ('base': conda)"
  },
  "language_info": {
   "codemirror_mode": {
    "name": "ipython",
    "version": 3
   },
   "file_extension": ".py",
   "mimetype": "text/x-python",
   "name": "python",
   "nbconvert_exporter": "python",
   "pygments_lexer": "ipython3",
   "version": "3.7.6"
  },
  "interpreter": {
   "hash": "60062bfbbdb55d7c70b884c78dba17d93f7bddb21846b67229a99cf865725014"
  }
 },
 "nbformat": 4,
 "nbformat_minor": 4
}