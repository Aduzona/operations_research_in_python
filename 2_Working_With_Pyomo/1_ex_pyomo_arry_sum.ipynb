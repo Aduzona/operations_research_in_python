{
 "cells": [
  {
   "cell_type": "markdown",
   "source": [
    "# Arrays and Summation\r\n",
    "\r\n",
    "* $P_g$ Power Generation\r\n",
    "* $C_g$ Cost of Power generation\r\n",
    "* $L_d$ Load Points or Load demand\r\n",
    "\r\n",
    "### Power Generation(Pg) Table 1 (gen tab in Spreadsheet)\r\n",
    "|ID|Cost|Power Generation Limit|\r\n",
    "|--|----|--------------|\r\n",
    "|0|0.10|20kW|\r\n",
    "|1|0.05|10kW|\r\n",
    "|2|0.30|10kW|\r\n",
    "|3|0.40|50 KW|\r\n",
    "|4|0.01|5kW|\r\n",
    "\r\n",
    "### Load Points (Pd) Table 2 (load tab in Spreadsheet)\r\n",
    "\r\n",
    "|ID|Load Demand|\r\n",
    "|--|----|\r\n",
    "|0|50kW|\r\n",
    "|1|20kW|\r\n",
    "|2|30kW|\r\n",
    "\r\n",
    "* Only generators 0 and 3 can provide power to load point 0\r\n",
    "\r\n",
    "$$ \\min  \\sum_{i_g =0}^4 C_g(i_g)P_g(i_g) $$\r\n",
    "\r\n",
    "S.t.\r\n",
    "\r\n",
    "* Supply and demand must be equal\r\n",
    "  \r\n",
    "$$\\sum_{i_g =0}^4 P_g(i_g) = \\sum_{i_d =0}^2 P_d(i_d) $$ \r\n",
    "\r\n",
    "* Generators 0 and 3 supply power to load point 0\r\n",
    "\r\n",
    "$$ P_d(0) \\le P_g(0) + P_g(3) $$\r\n",
    "\r\n",
    "* Each power generator should generate more than 0kW.\r\n",
    "  $$ P_g(i_g) \\ge 0 \\qquad \\forall i_g$$\r\n",
    "\r\n",
    "* Each power generator have a power generation limit\r\n",
    "  $$P_g(i_g) \\le P_g(i_g)^{LIM} \\qquad \\forall i_g $$\r\n"
   ],
   "metadata": {}
  },
  {
   "cell_type": "markdown",
   "source": [
    "Variable = $P_g(i_g)^{LIM}=\\{20,10,40,50,50,5\\}$\r\n",
    "* As seen in Table 1"
   ],
   "metadata": {}
  },
  {
   "cell_type": "code",
   "execution_count": 1,
   "source": [
    "import pyomo.environ as pyo\r\n",
    "from pyomo.environ import *\r\n",
    "from pyomo.opt import SolverFactory\r\n",
    "import pandas as pd"
   ],
   "outputs": [],
   "metadata": {}
  },
  {
   "cell_type": "code",
   "execution_count": 3,
   "source": [
    "#inputs\r\n",
    "dataGen = pd.read_excel('1_inputs.xlsx', sheet_name='gen')\r\n",
    "dataGen\r\n"
   ],
   "outputs": [
    {
     "output_type": "execute_result",
     "data": {
      "text/plain": [
       "   id  limit  cost\n",
       "0   0     20  0.10\n",
       "1   1     10  0.05\n",
       "2   2     40  0.30\n",
       "3   3     50  0.40\n",
       "4   4      5  0.01"
      ],
      "text/html": [
       "<div>\n",
       "<style scoped>\n",
       "    .dataframe tbody tr th:only-of-type {\n",
       "        vertical-align: middle;\n",
       "    }\n",
       "\n",
       "    .dataframe tbody tr th {\n",
       "        vertical-align: top;\n",
       "    }\n",
       "\n",
       "    .dataframe thead th {\n",
       "        text-align: right;\n",
       "    }\n",
       "</style>\n",
       "<table border=\"1\" class=\"dataframe\">\n",
       "  <thead>\n",
       "    <tr style=\"text-align: right;\">\n",
       "      <th></th>\n",
       "      <th>id</th>\n",
       "      <th>limit</th>\n",
       "      <th>cost</th>\n",
       "    </tr>\n",
       "  </thead>\n",
       "  <tbody>\n",
       "    <tr>\n",
       "      <th>0</th>\n",
       "      <td>0</td>\n",
       "      <td>20</td>\n",
       "      <td>0.10</td>\n",
       "    </tr>\n",
       "    <tr>\n",
       "      <th>1</th>\n",
       "      <td>1</td>\n",
       "      <td>10</td>\n",
       "      <td>0.05</td>\n",
       "    </tr>\n",
       "    <tr>\n",
       "      <th>2</th>\n",
       "      <td>2</td>\n",
       "      <td>40</td>\n",
       "      <td>0.30</td>\n",
       "    </tr>\n",
       "    <tr>\n",
       "      <th>3</th>\n",
       "      <td>3</td>\n",
       "      <td>50</td>\n",
       "      <td>0.40</td>\n",
       "    </tr>\n",
       "    <tr>\n",
       "      <th>4</th>\n",
       "      <td>4</td>\n",
       "      <td>5</td>\n",
       "      <td>0.01</td>\n",
       "    </tr>\n",
       "  </tbody>\n",
       "</table>\n",
       "</div>"
      ]
     },
     "metadata": {},
     "execution_count": 3
    }
   ],
   "metadata": {}
  },
  {
   "cell_type": "code",
   "execution_count": 4,
   "source": [
    "Ng = len(dataGen)\r\n",
    "Ng # number of variables"
   ],
   "outputs": [
    {
     "output_type": "execute_result",
     "data": {
      "text/plain": [
       "5"
      ]
     },
     "metadata": {},
     "execution_count": 4
    }
   ],
   "metadata": {}
  },
  {
   "cell_type": "code",
   "execution_count": 7,
   "source": [
    "dataGen.cost[1]"
   ],
   "outputs": [
    {
     "output_type": "execute_result",
     "data": {
      "text/plain": [
       "0.05"
      ]
     },
     "metadata": {},
     "execution_count": 7
    }
   ],
   "metadata": {}
  },
  {
   "cell_type": "code",
   "execution_count": 6,
   "source": [
    "dataLoad = pd.read_excel('1_inputs.xlsx', sheet_name='load')\r\n",
    "dataLoad"
   ],
   "outputs": [
    {
     "output_type": "execute_result",
     "data": {
      "text/plain": [
       "   id  value\n",
       "0   0     50\n",
       "1   1     20\n",
       "2   2     30"
      ],
      "text/html": [
       "<div>\n",
       "<style scoped>\n",
       "    .dataframe tbody tr th:only-of-type {\n",
       "        vertical-align: middle;\n",
       "    }\n",
       "\n",
       "    .dataframe tbody tr th {\n",
       "        vertical-align: top;\n",
       "    }\n",
       "\n",
       "    .dataframe thead th {\n",
       "        text-align: right;\n",
       "    }\n",
       "</style>\n",
       "<table border=\"1\" class=\"dataframe\">\n",
       "  <thead>\n",
       "    <tr style=\"text-align: right;\">\n",
       "      <th></th>\n",
       "      <th>id</th>\n",
       "      <th>value</th>\n",
       "    </tr>\n",
       "  </thead>\n",
       "  <tbody>\n",
       "    <tr>\n",
       "      <th>0</th>\n",
       "      <td>0</td>\n",
       "      <td>50</td>\n",
       "    </tr>\n",
       "    <tr>\n",
       "      <th>1</th>\n",
       "      <td>1</td>\n",
       "      <td>20</td>\n",
       "    </tr>\n",
       "    <tr>\n",
       "      <th>2</th>\n",
       "      <td>2</td>\n",
       "      <td>30</td>\n",
       "    </tr>\n",
       "  </tbody>\n",
       "</table>\n",
       "</div>"
      ]
     },
     "metadata": {},
     "execution_count": 6
    }
   ],
   "metadata": {}
  },
  {
   "cell_type": "code",
   "execution_count": 14,
   "source": [
    "#model\r\n",
    "model = pyo.ConcreteModel()"
   ],
   "outputs": [],
   "metadata": {}
  },
  {
   "cell_type": "markdown",
   "source": [
    "### Learning"
   ],
   "metadata": {}
  },
  {
   "cell_type": "code",
   "execution_count": 9,
   "source": [
    "#model.Pg=pyo.Var()# lets just run this code\r\n",
    "#model.Pg.pprint()"
   ],
   "outputs": [
    {
     "output_type": "stream",
     "name": "stdout",
     "text": [
      "Pg : Size=1, Index=None\n",
      "    Key  : Lower : Value : Upper : Fixed : Stale : Domain\n",
      "    None :  None :  None :  None : False :  True :  Reals\n"
     ]
    }
   ],
   "metadata": {}
  },
  {
   "cell_type": "code",
   "execution_count": 10,
   "source": [
    "#model.Pg=pyo.Var(bounds=(0,None))# lets just run this code\r\n",
    "#model.Pg.pprint()"
   ],
   "outputs": [
    {
     "output_type": "stream",
     "name": "stdout",
     "text": [
      "WARNING: Implicitly replacing the Component attribute Pg (type=<class\n",
      "    'pyomo.core.base.var.SimpleVar'>) on block unknown with a new Component\n",
      "    (type=<class 'pyomo.core.base.var.SimpleVar'>). This is usually indicative\n",
      "    of a modelling error. To avoid this warning, use block.del_component() and\n",
      "    block.add_component().\n",
      "Pg : Size=1, Index=None\n",
      "    Key  : Lower : Value : Upper : Fixed : Stale : Domain\n",
      "    None :     0 :  None :  None : False :  True :  Reals\n"
     ]
    }
   ],
   "metadata": {}
  },
  {
   "cell_type": "markdown",
   "source": [
    "We have 5 generators, we could create, $P_{g1}, P_{g2}$ but instead, we can simply specify the dimensions."
   ],
   "metadata": {}
  },
  {
   "cell_type": "code",
   "execution_count": 17,
   "source": [
    "Pg = model.Pg"
   ],
   "outputs": [],
   "metadata": {}
  },
  {
   "cell_type": "markdown",
   "source": [
    "### Dimensions \r\n",
    "\r\n",
    "* Sometimes we can have 2 dimensions Example: $5 \\times 3=15 ~ variables$\r\n",
    "$$ \\sum_{i_g=0}^4 \\sum_{t_g=0}^2 P_g(t_g)(i_g)$$"
   ],
   "metadata": {}
  },
  {
   "cell_type": "code",
   "execution_count": 19,
   "source": [
    "model = pyo.ConcreteModel()\r\n",
    "model.Pg = pyo.Var(range(Ng), range(3), bounds=(0,None))\r\n",
    "model.Pg.pprint()"
   ],
   "outputs": [
    {
     "output_type": "stream",
     "name": "stdout",
     "text": [
      "Pg : Size=15, Index=Pg_index\n",
      "    Key    : Lower : Value : Upper : Fixed : Stale : Domain\n",
      "    (0, 0) :     0 :  None :  None : False :  True :  Reals\n",
      "    (0, 1) :     0 :  None :  None : False :  True :  Reals\n",
      "    (0, 2) :     0 :  None :  None : False :  True :  Reals\n",
      "    (1, 0) :     0 :  None :  None : False :  True :  Reals\n",
      "    (1, 1) :     0 :  None :  None : False :  True :  Reals\n",
      "    (1, 2) :     0 :  None :  None : False :  True :  Reals\n",
      "    (2, 0) :     0 :  None :  None : False :  True :  Reals\n",
      "    (2, 1) :     0 :  None :  None : False :  True :  Reals\n",
      "    (2, 2) :     0 :  None :  None : False :  True :  Reals\n",
      "    (3, 0) :     0 :  None :  None : False :  True :  Reals\n",
      "    (3, 1) :     0 :  None :  None : False :  True :  Reals\n",
      "    (3, 2) :     0 :  None :  None : False :  True :  Reals\n",
      "    (4, 0) :     0 :  None :  None : False :  True :  Reals\n",
      "    (4, 1) :     0 :  None :  None : False :  True :  Reals\n",
      "    (4, 2) :     0 :  None :  None : False :  True :  Reals\n"
     ]
    }
   ],
   "metadata": {}
  },
  {
   "cell_type": "markdown",
   "source": [
    "### Define Variable"
   ],
   "metadata": {}
  },
  {
   "cell_type": "code",
   "execution_count": 20,
   "source": [
    "#model\r\n",
    "model = pyo.ConcreteModel()\r\n",
    "# variable\r\n",
    "model.Pg = pyo.Var(range(Ng), bounds=(0,None))\r\n",
    "Pg = model.Pg \r\n",
    "model.Pg.pprint()"
   ],
   "outputs": [
    {
     "output_type": "stream",
     "name": "stdout",
     "text": [
      "Pg : Size=5, Index=Pg_index\n",
      "    Key : Lower : Value : Upper : Fixed : Stale : Domain\n",
      "      0 :     0 :  None :  None : False :  True :  Reals\n",
      "      1 :     0 :  None :  None : False :  True :  Reals\n",
      "      2 :     0 :  None :  None : False :  True :  Reals\n",
      "      3 :     0 :  None :  None : False :  True :  Reals\n",
      "      4 :     0 :  None :  None : False :  True :  Reals\n"
     ]
    }
   ],
   "metadata": {}
  },
  {
   "cell_type": "markdown",
   "source": [
    "### Contraints\r\n",
    "\r\n",
    "* Power Balance thus total Generation == total Demand\r\n",
    "\r\n",
    "$$\\sum_{i_g =0}^4 P_g(i_g) = \\sum_{i_d =0}^2 P_d(i_d) $$ "
   ],
   "metadata": {}
  },
  {
   "cell_type": "code",
   "execution_count": 23,
   "source": [
    "dataLoad"
   ],
   "outputs": [
    {
     "output_type": "execute_result",
     "data": {
      "text/plain": [
       "   id  value\n",
       "0   0     50\n",
       "1   1     20\n",
       "2   2     30"
      ],
      "text/html": [
       "<div>\n",
       "<style scoped>\n",
       "    .dataframe tbody tr th:only-of-type {\n",
       "        vertical-align: middle;\n",
       "    }\n",
       "\n",
       "    .dataframe tbody tr th {\n",
       "        vertical-align: top;\n",
       "    }\n",
       "\n",
       "    .dataframe thead th {\n",
       "        text-align: right;\n",
       "    }\n",
       "</style>\n",
       "<table border=\"1\" class=\"dataframe\">\n",
       "  <thead>\n",
       "    <tr style=\"text-align: right;\">\n",
       "      <th></th>\n",
       "      <th>id</th>\n",
       "      <th>value</th>\n",
       "    </tr>\n",
       "  </thead>\n",
       "  <tbody>\n",
       "    <tr>\n",
       "      <th>0</th>\n",
       "      <td>0</td>\n",
       "      <td>50</td>\n",
       "    </tr>\n",
       "    <tr>\n",
       "      <th>1</th>\n",
       "      <td>1</td>\n",
       "      <td>20</td>\n",
       "    </tr>\n",
       "    <tr>\n",
       "      <th>2</th>\n",
       "      <td>2</td>\n",
       "      <td>30</td>\n",
       "    </tr>\n",
       "  </tbody>\n",
       "</table>\n",
       "</div>"
      ]
     },
     "metadata": {},
     "execution_count": 23
    }
   ],
   "metadata": {}
  },
  {
   "cell_type": "code",
   "execution_count": 24,
   "source": [
    "[dataLoad.value[d] for d in dataLoad.id]"
   ],
   "outputs": [
    {
     "output_type": "execute_result",
     "data": {
      "text/plain": [
       "[50, 20, 30]"
      ]
     },
     "metadata": {},
     "execution_count": 24
    }
   ],
   "metadata": {}
  },
  {
   "cell_type": "code",
   "execution_count": 26,
   "source": [
    "[Pg[g] for g in dataGen.id] # same concept"
   ],
   "outputs": [
    {
     "output_type": "execute_result",
     "data": {
      "text/plain": [
       "[<pyomo.core.base.var._GeneralVarData at 0x176e2fc7e48>,\n",
       " <pyomo.core.base.var._GeneralVarData at 0x176e2fc7978>,\n",
       " <pyomo.core.base.var._GeneralVarData at 0x176e2fc7908>,\n",
       " <pyomo.core.base.var._GeneralVarData at 0x176e2f7feb8>,\n",
       " <pyomo.core.base.var._GeneralVarData at 0x176e2f7fac8>]"
      ]
     },
     "metadata": {},
     "execution_count": 26
    }
   ],
   "metadata": {}
  },
  {
   "cell_type": "code",
   "execution_count": 28,
   "source": [
    "dataGen.id"
   ],
   "outputs": [
    {
     "output_type": "execute_result",
     "data": {
      "text/plain": [
       "0    0\n",
       "1    1\n",
       "2    2\n",
       "3    3\n",
       "4    4\n",
       "Name: id, dtype: int64"
      ]
     },
     "metadata": {},
     "execution_count": 28
    }
   ],
   "metadata": {}
  },
  {
   "cell_type": "code",
   "execution_count": 27,
   "source": [
    "print(sum([Pg[g] for g in dataGen.id]))"
   ],
   "outputs": [
    {
     "output_type": "stream",
     "name": "stdout",
     "text": [
      "Pg[0] + Pg[1] + Pg[2] + Pg[3] + Pg[4]\n"
     ]
    }
   ],
   "metadata": {}
  },
  {
   "cell_type": "code",
   "execution_count": 30,
   "source": [
    "sum(Pg)# this just summed the id, but it will be replaced."
   ],
   "outputs": [
    {
     "output_type": "execute_result",
     "data": {
      "text/plain": [
       "10"
      ]
     },
     "metadata": {},
     "execution_count": 30
    }
   ],
   "metadata": {}
  },
  {
   "cell_type": "code",
   "execution_count": 29,
   "source": [
    "# The Load is already an array\r\n",
    "sum(dataLoad.value)"
   ],
   "outputs": [
    {
     "output_type": "execute_result",
     "data": {
      "text/plain": [
       "100"
      ]
     },
     "metadata": {},
     "execution_count": 29
    }
   ],
   "metadata": {}
  },
  {
   "cell_type": "code",
   "execution_count": 31,
   "source": [
    "pg_sum=sum([Pg[g] for g in dataGen.id])# summation of all Pg is position g\r\n",
    "model.balance=pyo.Constraint(expr = pg_sum== sum(dataLoad.value) )"
   ],
   "outputs": [],
   "metadata": {}
  },
  {
   "cell_type": "markdown",
   "source": [
    "* Contraint 2.\r\n",
    "\r\n",
    "$$ P_d(0) \\le P_g(0) + P_g(3) $$"
   ],
   "metadata": {}
  },
  {
   "cell_type": "code",
   "execution_count": 32,
   "source": [
    "dataLoad.value[0]"
   ],
   "outputs": [
    {
     "output_type": "execute_result",
     "data": {
      "text/plain": [
       "50"
      ]
     },
     "metadata": {},
     "execution_count": 32
    }
   ],
   "metadata": {}
  },
  {
   "cell_type": "code",
   "execution_count": 33,
   "source": [
    "## Always Put Optimization Variables before constaints\r\n",
    "model.cond = pyo.Constraint(expr = Pg[0]+Pg[3] >= dataLoad.value[0])"
   ],
   "outputs": [],
   "metadata": {}
  },
  {
   "cell_type": "code",
   "execution_count": 35,
   "source": [
    "model.pprint()"
   ],
   "outputs": [
    {
     "output_type": "stream",
     "name": "stdout",
     "text": [
      "1 Set Declarations\n",
      "    Pg_index : Size=1, Index=None, Ordered=False\n",
      "        Key  : Dimen : Domain : Size : Members\n",
      "        None :     1 :    Any :    5 : {0, 1, 2, 3, 4}\n",
      "\n",
      "1 Var Declarations\n",
      "    Pg : Size=5, Index=Pg_index\n",
      "        Key : Lower : Value : Upper : Fixed : Stale : Domain\n",
      "          0 :     0 :  None :  None : False :  True :  Reals\n",
      "          1 :     0 :  None :  None : False :  True :  Reals\n",
      "          2 :     0 :  None :  None : False :  True :  Reals\n",
      "          3 :     0 :  None :  None : False :  True :  Reals\n",
      "          4 :     0 :  None :  None : False :  True :  Reals\n",
      "\n",
      "2 Constraint Declarations\n",
      "    balance : Size=1, Index=None, Active=True\n",
      "        Key  : Lower : Body                                  : Upper : Active\n",
      "        None : 100.0 : Pg[0] + Pg[1] + Pg[2] + Pg[3] + Pg[4] : 100.0 :   True\n",
      "    cond : Size=1, Index=None, Active=True\n",
      "        Key  : Lower : Body          : Upper : Active\n",
      "        None :  50.0 : Pg[0] + Pg[3] :  +Inf :   True\n",
      "\n",
      "4 Declarations: Pg_index Pg balance cond\n"
     ]
    }
   ],
   "metadata": {}
  },
  {
   "cell_type": "markdown",
   "source": [
    "* Upper Limit Contraints\r\n",
    "\r\n",
    "$$P_g(i_g) \\le P_g(i_g)^{LIM} \\qquad \\forall i_g $$\r\n",
    "\r\n",
    "Which is list of constraints"
   ],
   "metadata": {}
  },
  {
   "cell_type": "code",
   "execution_count": 36,
   "source": [
    "model.limits =pyo.ConstraintList()\r\n",
    "model.limits.pprint()"
   ],
   "outputs": [
    {
     "output_type": "stream",
     "name": "stdout",
     "text": [
      "limits : Size=0, Index=limits_index, Active=True\n",
      "    Key : Lower : Body : Upper : Active\n"
     ]
    }
   ],
   "metadata": {}
  },
  {
   "cell_type": "code",
   "execution_count": 37,
   "source": [
    "for g in dataGen.id:\r\n",
    "    model.limits.add(expr = Pg[g]<= dataGen.limit[g])"
   ],
   "outputs": [],
   "metadata": {}
  },
  {
   "cell_type": "code",
   "execution_count": 38,
   "source": [
    "model.limits.pprint()"
   ],
   "outputs": [
    {
     "output_type": "stream",
     "name": "stdout",
     "text": [
      "limits : Size=5, Index=limits_index, Active=True\n",
      "    Key : Lower : Body  : Upper : Active\n",
      "      1 :  -Inf : Pg[0] :  20.0 :   True\n",
      "      2 :  -Inf : Pg[1] :  10.0 :   True\n",
      "      3 :  -Inf : Pg[2] :  40.0 :   True\n",
      "      4 :  -Inf : Pg[3] :  50.0 :   True\n",
      "      5 :  -Inf : Pg[4] :   5.0 :   True\n"
     ]
    }
   ],
   "metadata": {}
  },
  {
   "cell_type": "markdown",
   "source": [
    "## Objective Function\r\n",
    "\r\n",
    "$$ \\min  \\sum_{i_g =0}^4 C_g(i_g)P_g(i_g) $$\r\n"
   ],
   "metadata": {}
  },
  {
   "cell_type": "code",
   "execution_count": 39,
   "source": [
    "dataGen.cost"
   ],
   "outputs": [
    {
     "output_type": "execute_result",
     "data": {
      "text/plain": [
       "0    0.10\n",
       "1    0.05\n",
       "2    0.30\n",
       "3    0.40\n",
       "4    0.01\n",
       "Name: cost, dtype: float64"
      ]
     },
     "metadata": {},
     "execution_count": 39
    }
   ],
   "metadata": {}
  },
  {
   "cell_type": "code",
   "execution_count": 40,
   "source": [
    "cost_sum = sum([Pg[g]*dataGen.cost[g] for g in dataGen.id])\r\n",
    "model.obj = pyo.Objective(expr=cost_sum)"
   ],
   "outputs": [],
   "metadata": {}
  },
  {
   "cell_type": "markdown",
   "source": [
    "## Define the solver"
   ],
   "metadata": {}
  },
  {
   "cell_type": "code",
   "execution_count": 45,
   "source": [
    "opt = SolverFactory('glpk')"
   ],
   "outputs": [],
   "metadata": {}
  },
  {
   "cell_type": "code",
   "execution_count": 46,
   "source": [
    "results = opt.solve(model)"
   ],
   "outputs": [],
   "metadata": {}
  },
  {
   "cell_type": "code",
   "execution_count": 51,
   "source": [
    "print(pyo.value(Pg[0])) # so thare are 5 values\r\n",
    "print(pyo.value(Pg[1]))"
   ],
   "outputs": [
    {
     "output_type": "stream",
     "name": "stdout",
     "text": [
      "20.0\n",
      "10.0\n"
     ]
    }
   ],
   "metadata": {}
  },
  {
   "cell_type": "code",
   "execution_count": 52,
   "source": [
    "# Create additional column\r\n",
    "# create a list\r\n",
    "dataGen['Pg'] = [pyo.value(Pg[g]) for g in dataGen.id]\r\n",
    "dataGen"
   ],
   "outputs": [
    {
     "output_type": "execute_result",
     "data": {
      "text/plain": [
       "   id  limit  cost    Pg\n",
       "0   0     20  0.10  20.0\n",
       "1   1     10  0.05  10.0\n",
       "2   2     40  0.30  35.0\n",
       "3   3     50  0.40  30.0\n",
       "4   4      5  0.01   5.0"
      ],
      "text/html": [
       "<div>\n",
       "<style scoped>\n",
       "    .dataframe tbody tr th:only-of-type {\n",
       "        vertical-align: middle;\n",
       "    }\n",
       "\n",
       "    .dataframe tbody tr th {\n",
       "        vertical-align: top;\n",
       "    }\n",
       "\n",
       "    .dataframe thead th {\n",
       "        text-align: right;\n",
       "    }\n",
       "</style>\n",
       "<table border=\"1\" class=\"dataframe\">\n",
       "  <thead>\n",
       "    <tr style=\"text-align: right;\">\n",
       "      <th></th>\n",
       "      <th>id</th>\n",
       "      <th>limit</th>\n",
       "      <th>cost</th>\n",
       "      <th>Pg</th>\n",
       "    </tr>\n",
       "  </thead>\n",
       "  <tbody>\n",
       "    <tr>\n",
       "      <th>0</th>\n",
       "      <td>0</td>\n",
       "      <td>20</td>\n",
       "      <td>0.10</td>\n",
       "      <td>20.0</td>\n",
       "    </tr>\n",
       "    <tr>\n",
       "      <th>1</th>\n",
       "      <td>1</td>\n",
       "      <td>10</td>\n",
       "      <td>0.05</td>\n",
       "      <td>10.0</td>\n",
       "    </tr>\n",
       "    <tr>\n",
       "      <th>2</th>\n",
       "      <td>2</td>\n",
       "      <td>40</td>\n",
       "      <td>0.30</td>\n",
       "      <td>35.0</td>\n",
       "    </tr>\n",
       "    <tr>\n",
       "      <th>3</th>\n",
       "      <td>3</td>\n",
       "      <td>50</td>\n",
       "      <td>0.40</td>\n",
       "      <td>30.0</td>\n",
       "    </tr>\n",
       "    <tr>\n",
       "      <th>4</th>\n",
       "      <td>4</td>\n",
       "      <td>5</td>\n",
       "      <td>0.01</td>\n",
       "      <td>5.0</td>\n",
       "    </tr>\n",
       "  </tbody>\n",
       "</table>\n",
       "</div>"
      ]
     },
     "metadata": {},
     "execution_count": 52
    }
   ],
   "metadata": {}
  }
 ],
 "metadata": {
  "orig_nbformat": 4,
  "language_info": {
   "name": "python",
   "version": "3.7.6",
   "mimetype": "text/x-python",
   "codemirror_mode": {
    "name": "ipython",
    "version": 3
   },
   "pygments_lexer": "ipython3",
   "nbconvert_exporter": "python",
   "file_extension": ".py"
  },
  "kernelspec": {
   "name": "python3",
   "display_name": "Python 3.7.6 64-bit ('base': conda)"
  },
  "interpreter": {
   "hash": "60062bfbbdb55d7c70b884c78dba17d93f7bddb21846b67229a99cf865725014"
  }
 },
 "nbformat": 4,
 "nbformat_minor": 2
}