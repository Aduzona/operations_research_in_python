{
 "cells": [
  {
   "cell_type": "markdown",
   "source": [],
   "metadata": {}
  },
  {
   "cell_type": "code",
   "execution_count": 1,
   "source": [
    "import pyomo.environ as pyo, numpy as np\r\n",
    "from pyomo.environ import *\r\n",
    "from pyomo.opt import SolverFactory"
   ],
   "outputs": [],
   "metadata": {}
  },
  {
   "cell_type": "code",
   "execution_count": 22,
   "source": [
    "#creation of the model and variables\r\n",
    "model = pyo.ConcreteModel()\r\n",
    "model.C = pyo.Var(range(1,4))\r\n",
    "model.n = pyo.Var(range(1,4), within=Integers, bounds=(0,1000))\r\n",
    "model.b = pyo.Var(range(1,3),within=Binary)\r\n",
    "model.z= pyo.Var(within=Binary)\r\n",
    "C = model.C\r\n",
    "n = model.n\r\n",
    "b = model.b\r\n",
    "z= model.z"
   ],
   "outputs": [],
   "metadata": {}
  },
  {
   "cell_type": "code",
   "execution_count": 23,
   "source": [
    "# Objective\r\n",
    "\r\n",
    "model.obj=pyo.Objective(expr=summation(C))"
   ],
   "outputs": [],
   "metadata": {}
  },
  {
   "cell_type": "code",
   "execution_count": 24,
   "source": [
    "print(sum(n[i] for i in range(1,4)))"
   ],
   "outputs": [
    {
     "output_type": "stream",
     "name": "stdout",
     "text": [
      "n[1] + n[2] + n[3]\n"
     ]
    }
   ],
   "metadata": {}
  },
  {
   "cell_type": "code",
   "execution_count": 25,
   "source": [
    "model.total=pyo.Constraint(expr=sum(n[i] for i in range(1,4))==2100)"
   ],
   "outputs": [],
   "metadata": {}
  },
  {
   "cell_type": "code",
   "execution_count": 26,
   "source": [
    "model.C1 = pyo.Constraint(expr = C[1] == 2*n[1])\r\n",
    "model.C1n= pyo.Constraint(expr = n[1] <= b[1]*1000)\r\n",
    "model.C2 = pyo.Constraint(expr = C[2] == 6*n[2])\r\n",
    "\r\n",
    "model.C2nz=pyo.Constraint(expr=n[2]<=z*1000)\r\n",
    "model.C2nb1=pyo.Constraint(expr=z<=b[1])\r\n",
    "model.C2nb2=pyo.Constraint(expr=z<=b[2])\r\n",
    "model.C2nb1b2=pyo.Constraint(expr=z>=b[1]+b[2]-1)\r\n",
    "\r\n",
    "model.C3 = pyo.Constraint(expr = C[3] == 7*n[3])"
   ],
   "outputs": [],
   "metadata": {}
  },
  {
   "cell_type": "code",
   "execution_count": 27,
   "source": [
    "opt = SolverFactory('glpk')\r\n",
    "opt.solve(model)"
   ],
   "outputs": [
    {
     "output_type": "execute_result",
     "data": {
      "text/plain": [
       "{'Problem': [{'Name': 'unknown', 'Lower bound': 8700.0, 'Upper bound': 8700.0, 'Number of objectives': 1, 'Number of constraints': 10, 'Number of variables': 10, 'Number of nonzeros': 21, 'Sense': 'minimize'}], 'Solver': [{'Status': 'ok', 'Termination condition': 'optimal', 'Statistics': {'Branch and bound': {'Number of bounded subproblems': '1', 'Number of created subproblems': '1'}}, 'Error rc': 0, 'Time': 16.21303367614746}], 'Solution': [OrderedDict([('number of solutions', 0), ('number of solutions displayed', 0)])]}"
      ]
     },
     "metadata": {},
     "execution_count": 27
    }
   ],
   "metadata": {}
  },
  {
   "cell_type": "code",
   "execution_count": 29,
   "source": [
    "#print\r\n",
    "print('n1', pyo.value(n[1]))\r\n",
    "print('n2', pyo.value(n[2]))\r\n",
    "print('n3', pyo.value(n[3]))\r\n",
    "print('nTotal', pyo.value(pyo.summation(n)))\r\n",
    "\r\n",
    "print('C1', pyo.value(C[1]))\r\n",
    "print('C2', pyo.value(C[2]))\r\n",
    "print('C3', pyo.value(C[3]))\r\n",
    "print('CTotal', pyo.value(pyo.summation(C)))\r\n"
   ],
   "outputs": [
    {
     "output_type": "stream",
     "name": "stdout",
     "text": [
      "n1 1000.0\n",
      "n2 1000.0\n",
      "n3 100.0\n",
      "nTotal 2100.0\n",
      "C1 2000.0\n",
      "C2 6000.0\n",
      "C3 700.0\n",
      "CTotal 8700.0\n"
     ]
    }
   ],
   "metadata": {}
  }
 ],
 "metadata": {
  "orig_nbformat": 4,
  "language_info": {
   "name": "python",
   "version": "3.7.6",
   "mimetype": "text/x-python",
   "codemirror_mode": {
    "name": "ipython",
    "version": 3
   },
   "pygments_lexer": "ipython3",
   "nbconvert_exporter": "python",
   "file_extension": ".py"
  },
  "kernelspec": {
   "name": "python3",
   "display_name": "Python 3.7.6 64-bit ('base': conda)"
  },
  "interpreter": {
   "hash": "60062bfbbdb55d7c70b884c78dba17d93f7bddb21846b67229a99cf865725014"
  }
 },
 "nbformat": 4,
 "nbformat_minor": 2
}