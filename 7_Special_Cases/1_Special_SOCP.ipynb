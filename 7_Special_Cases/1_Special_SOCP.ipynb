{
 "cells": [
  {
   "cell_type": "code",
   "execution_count": 1,
   "source": [
    "import pyomo.environ as pyo, numpy as np\r\n",
    "from pyomo.environ import *\r\n",
    "from pyomo.opt import SolverFactory"
   ],
   "outputs": [],
   "metadata": {}
  },
  {
   "cell_type": "markdown",
   "source": [
    "* GUROBI cannot solve NON-Convex Problem.\r\n",
    "* But After version 9, Gurobi can solve Non-Convex Problem.\r\n",
    "* The problem below is a Convex problem.\r\n",
    "* Guoribi can solve the problem below, even though it looks like MINLP.\r\n",
    "* You can also solve this with couenne solver."
   ],
   "metadata": {}
  },
  {
   "cell_type": "code",
   "execution_count": 2,
   "source": [
    "model = pyo.ConcreteModel()\r\n",
    "model.C = pyo.Var(range(1,4))\r\n",
    "model.n = pyo.Var(range(1,4), within=Integers, bounds=(0,1000))\r\n",
    "C = model.C\r\n",
    "n = model.n"
   ],
   "outputs": [],
   "metadata": {}
  },
  {
   "cell_type": "code",
   "execution_count": 3,
   "source": [
    "C.pprint()\r\n",
    "n.pprint()"
   ],
   "outputs": [
    {
     "output_type": "stream",
     "name": "stdout",
     "text": [
      "C : Size=3, Index=C_index\n",
      "    Key : Lower : Value : Upper : Fixed : Stale : Domain\n",
      "      1 :  None :  None :  None : False :  True :  Reals\n",
      "      2 :  None :  None :  None : False :  True :  Reals\n",
      "      3 :  None :  None :  None : False :  True :  Reals\n",
      "n : Size=3, Index=n_index\n",
      "    Key : Lower : Value : Upper : Fixed : Stale : Domain\n",
      "      1 :     0 :  None :  1000 : False :  True : Integers\n",
      "      2 :     0 :  None :  1000 : False :  True : Integers\n",
      "      3 :     0 :  None :  1000 : False :  True : Integers\n"
     ]
    }
   ],
   "metadata": {}
  },
  {
   "cell_type": "code",
   "execution_count": 6,
   "source": [
    "print(sum(C[i] for i in range(1,4)))"
   ],
   "outputs": [
    {
     "output_type": "stream",
     "name": "stdout",
     "text": [
      "C[1] + C[2] + C[3]\n"
     ]
    }
   ],
   "metadata": {}
  },
  {
   "cell_type": "code",
   "execution_count": 7,
   "source": [
    "print(sum(n[i] for i in range(1,4)))"
   ],
   "outputs": [
    {
     "output_type": "stream",
     "name": "stdout",
     "text": [
      "n[1] + n[2] + n[3]\n"
     ]
    }
   ],
   "metadata": {}
  },
  {
   "cell_type": "code",
   "execution_count": 9,
   "source": [
    "model.obj=pyo.Objective(expr=sum(C[i] for i in range(1,4)))"
   ],
   "outputs": [],
   "metadata": {}
  },
  {
   "cell_type": "code",
   "execution_count": 10,
   "source": [
    "model.total = pyo.Constraint(expr = sum(n[i] for i in range(1,4)) == 2100)"
   ],
   "outputs": [],
   "metadata": {}
  },
  {
   "cell_type": "code",
   "execution_count": 11,
   "source": [
    "model.C1 = pyo.Constraint(expr = C[1] == 0.01*n[1]*n[1] + 2*n[1])\r\n",
    "model.C2 = pyo.Constraint(expr = C[2] == 6*n[2])\r\n",
    "model.C3 = pyo.Constraint(expr = C[3] == 7*n[3])"
   ],
   "outputs": [],
   "metadata": {}
  },
  {
   "cell_type": "code",
   "execution_count": 12,
   "source": [
    "opt = SolverFactory('gurobi')\r\n",
    "opt.solve(model)"
   ],
   "outputs": [
    {
     "output_type": "execute_result",
     "data": {
      "text/plain": [
       "{'Problem': [{'Name': 'x7', 'Lower bound': 13075.0, 'Upper bound': 13075.0, 'Number of objectives': 1, 'Number of constraints': 5, 'Number of variables': 7, 'Number of binary variables': 0, 'Number of integer variables': 3, 'Number of continuous variables': 4, 'Number of nonzeros': 8, 'Sense': 'minimize'}], 'Solver': [{'Status': 'ok', 'Return code': '0', 'Message': 'Model was solved to optimality (subject to tolerances), and an optimal solution is available.', 'Termination condition': 'optimal', 'Termination message': 'Model was solved to optimality (subject to tolerances), and an optimal solution is available.', 'Wall time': '2.148256301879883', 'Error rc': 0, 'Time': 36.448545932769775}], 'Solution': [OrderedDict([('number of solutions', 0), ('number of solutions displayed', 0)])]}"
      ]
     },
     "metadata": {},
     "execution_count": 12
    }
   ],
   "metadata": {}
  },
  {
   "cell_type": "code",
   "execution_count": 17,
   "source": [
    "\r\n",
    "#print\r\n",
    "print('n1', pyo.value(n[1]))\r\n",
    "print('n2', pyo.value(n[2]))\r\n",
    "print('n3', pyo.value(n[3]))\r\n",
    "print('nTotal', pyo.value(pyo.summation(n)))\r\n",
    "print('nTotal raw {}'.format([pyo.value(n[i]) for i in range(1,4) ]))\r\n",
    "\r\n",
    "print('C1', pyo.value(C[1]))\r\n",
    "print('C2', pyo.value(C[2]))\r\n",
    "print('C3', pyo.value(C[3]))\r\n",
    "print('CTotal', pyo.value(pyo.summation(C)))\r\n",
    "print('Obj = ', pyo.value(model.obj))"
   ],
   "outputs": [
    {
     "output_type": "stream",
     "name": "stdout",
     "text": [
      "n1 250.0\n",
      "n2 1000.0\n",
      "n3 850.0\n",
      "nTotal 2100.0\n",
      "nTotal raw [250.0, 1000.0, 850.0]\n",
      "C1 1125.0\n",
      "C2 6000.0\n",
      "C3 5950.0\n",
      "CTotal 13075.0\n",
      "Obj =  13075.0\n"
     ]
    }
   ],
   "metadata": {}
  }
 ],
 "metadata": {
  "orig_nbformat": 4,
  "language_info": {
   "name": "python",
   "version": "3.7.6",
   "mimetype": "text/x-python",
   "codemirror_mode": {
    "name": "ipython",
    "version": 3
   },
   "pygments_lexer": "ipython3",
   "nbconvert_exporter": "python",
   "file_extension": ".py"
  },
  "kernelspec": {
   "name": "python3",
   "display_name": "Python 3.7.6 64-bit ('base': conda)"
  },
  "interpreter": {
   "hash": "60062bfbbdb55d7c70b884c78dba17d93f7bddb21846b67229a99cf865725014"
  }
 },
 "nbformat": 4,
 "nbformat_minor": 2
}