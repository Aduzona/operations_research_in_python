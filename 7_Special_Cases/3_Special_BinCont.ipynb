{
 "cells": [
  {
   "cell_type": "markdown",
   "source": [
    "## BIGM\r\n",
    "[MINLP](3_Special_BinCont_Gurobi.py) $\\downarrow$\r\n",
    "\r\n",
    "* Variables: $C_i=Real$, $n_i=Integer$ $b=binary$\r\n",
    "$$\\min C_1 +C_2 + C_3$$\r\n",
    "s.t.\r\n",
    "\r\n",
    "$$ n_1 + n_2 + n_3 =2100$$\r\n",
    "$$C_1=2*n_1$$\r\n",
    "$$C_2 =b* (6*n_2 +1000)$$\r\n",
    "$$n_2 \\le b* 1000$$\r\n",
    "$$ C_3 = 7*n_3$$\r\n",
    "$$0 \\le n_1, n_2,n3 \\le 1000 $$\r\n",
    "$$ n_1, n_2,n3 \\in \\mathbb Z_+ $$\r\n",
    "\r\n",
    "\r\n",
    "## Linearlized\r\n",
    "[MILP](3_Special_BinCont_BIGM.py) $\\downarrow$  you can now use GLPK\r\n",
    "\r\n",
    "* Variables: $C_i=Real$, $n_i=Integer$ $b=binary$\r\n",
    "$$\\min C_1 +C_2 + C_3$$\r\n",
    "s.t.\r\n",
    "\r\n",
    "$$ n_1 + n_2 + n_3 =2100$$\r\n",
    "$$C_1=2*n_1$$\r\n",
    "$$-b*M \\le C_2$$\r\n",
    "$$C_2 \\le b* M $$\r\n",
    "$$-(1-b)*M \\le C_2-(6*n_2 +1000)$$\r\n",
    "$$C_2-(6*n_2 +1000) \\le (1-b)*M $$\r\n",
    "$$n_2 \\le b* 1000$$\r\n",
    "$$ C_3 = 7*n_3$$\r\n",
    "$$0 \\le n_1, n_2,n3 \\le 1000 $$\r\n",
    "$$ n_1, n_2,n3 \\in \\mathbb Z_+ $$"
   ],
   "metadata": {}
  },
  {
   "cell_type": "code",
   "execution_count": null,
   "source": [],
   "outputs": [],
   "metadata": {}
  }
 ],
 "metadata": {
  "orig_nbformat": 4,
  "language_info": {
   "name": "python"
  }
 },
 "nbformat": 4,
 "nbformat_minor": 2
}