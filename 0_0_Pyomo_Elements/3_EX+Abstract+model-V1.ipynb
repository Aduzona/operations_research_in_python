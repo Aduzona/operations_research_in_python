{
 "cells": [
  {
   "cell_type": "markdown",
   "source": [
    "# Models\r\n",
    "\r\n",
    "**Abstract Models**\r\n",
    "\r\n",
    "$$ \\max OF =c_1x_1 +c_2x_2$$\r\n",
    "s.t.\r\n",
    "$$a_{11}x_1 + a_{12}x_2 \\le b_1$$\r\n",
    "$$a_{21}x_1 + a_{22}x_2 \\le b_2$$\r\n",
    "$$ x_1,x_2 > 0$$\r\n",
    "\r\n",
    "**Concrete Model**\r\n",
    "\r\n",
    "  *Instance 1*\r\n",
    "* $c_1=3$, $c_2=1$\r\n",
    "* $a_{11}=2$, $a_{12}=3$\r\n",
    "* $a_{21}=9$, $a_{22}=1$\r\n",
    "* $b_1=4$, $b_2=6$\r\n",
    "\r\n",
    " *Instance 2*\r\n",
    "* $c_1=3$, $c_2=2$\r\n",
    "* $a_{11}=1.2$, $a_{12}=4$\r\n",
    "* $a_{21}=1$, $a_{22}=8$\r\n",
    "* $b_1=1$, $b_2=7$\r\n"
   ],
   "metadata": {}
  },
  {
   "cell_type": "code",
   "execution_count": 1,
   "source": [
    "from pyomo.environ import *\r\n",
    "import matplotlib.pyplot as plt\r\n",
    "import numpy as np\r\n",
    "import random "
   ],
   "outputs": [],
   "metadata": {}
  },
  {
   "cell_type": "markdown",
   "source": [
    "  *Instance 1*\r\n",
    "* $c_1=3$, $c_2=1$\r\n",
    "* $a_{11}=2$, $a_{12}=3$\r\n",
    "* $a_{21}=9$, $a_{22}=1$\r\n",
    "* $b_1=4$, $b_2=6$"
   ],
   "metadata": {}
  },
  {
   "cell_type": "code",
   "execution_count": 3,
   "source": [
    "model = AbstractModel()\r\n",
    "model.x1 = Var (bounds=(0,4), within=NonNegativeReals ) \r\n",
    "model.x2 = Var (bounds=(0,4), within=NonNegativeReals ) \r\n",
    "model.a11 =Param(mutable=True)\r\n",
    "model.a12=Param(mutable=True)\r\n",
    "model.a21=Param(mutable=True)\r\n",
    "model.a22=Param(mutable=True)\r\n",
    "x1=model.x1\r\n",
    "x2=model.x2\r\n",
    "a11=model.a11\r\n",
    "a12=model.a12\r\n",
    "a21=model.a21\r\n",
    "a22=model.a22"
   ],
   "outputs": [],
   "metadata": {}
  },
  {
   "cell_type": "code",
   "execution_count": 4,
   "source": [
    "model.eq1 = Constraint(expr=a11*model.x1+a12*model.x2<=4)\r\n",
    "model.eq2 = Constraint(expr=a21*model.x1+a22*model.x2<=6)\r\n",
    "model.obj = Objective(expr=3*x1+x2, sense=maximize)"
   ],
   "outputs": [],
   "metadata": {}
  },
  {
   "cell_type": "code",
   "execution_count": 6,
   "source": [
    "opt = SolverFactory('glpk')\r\n",
    "instance = model.create_instance()\r\n",
    "\r\n",
    "instance.a11=2\r\n",
    "instance.a12=3\r\n",
    "instance.a21=9\r\n",
    "instance.a22=1\r\n",
    "\r\n",
    "results = opt.solve(instance) # solves and updates instance\r\n",
    "if (results.solver.status == SolverStatus.ok) and (results.solver.termination_condition == TerminationCondition.optimal):\r\n",
    "    print('feasible')\r\n",
    "elif (results.solver.termination_condition == TerminationCondition.infeasible):\r\n",
    "    print('infeasible')\r\n",
    "else:\r\n",
    "    print ('Solver Status:',  results.solver.status)"
   ],
   "outputs": [
    {
     "output_type": "stream",
     "name": "stdout",
     "text": [
      "feasible\n"
     ]
    }
   ],
   "metadata": {}
  },
  {
   "cell_type": "code",
   "execution_count": 7,
   "source": [
    "model.eq1.pprint()"
   ],
   "outputs": [
    {
     "output_type": "stream",
     "name": "stdout",
     "text": [
      "eq1 : Size=0, Index=None, Active=True\n",
      "    Not constructed\n"
     ]
    }
   ],
   "metadata": {}
  },
  {
   "cell_type": "code",
   "execution_count": 8,
   "source": [
    "instance.eq1.pprint()\r\n",
    "instance.eq2.pprint()\r\n"
   ],
   "outputs": [
    {
     "output_type": "stream",
     "name": "stdout",
     "text": [
      "eq1 : Size=1, Index=None, Active=True\n",
      "    Key  : Lower : Body            : Upper : Active\n",
      "    None :  -Inf : a11*x1 + a12*x2 :   4.0 :   True\n",
      "eq2 : Size=1, Index=None, Active=True\n",
      "    Key  : Lower : Body            : Upper : Active\n",
      "    None :  -Inf : a21*x1 + a22*x2 :   6.0 :   True\n"
     ]
    }
   ],
   "metadata": {}
  },
  {
   "cell_type": "code",
   "execution_count": 9,
   "source": [
    "print('X1= ',value(instance.x1))\r\n",
    "print('X2= ',value(instance.x2))\r\n",
    "print('OF= ',value(instance.obj))"
   ],
   "outputs": [
    {
     "output_type": "stream",
     "name": "stdout",
     "text": [
      "X1=  0.56\n",
      "X2=  0.96\n",
      "OF=  2.64\n"
     ]
    }
   ],
   "metadata": {}
  },
  {
   "cell_type": "code",
   "execution_count": null,
   "source": [],
   "outputs": [],
   "metadata": {}
  }
 ],
 "metadata": {
  "kernelspec": {
   "name": "python3",
   "display_name": "Python 3.7.6 64-bit ('base': conda)"
  },
  "language_info": {
   "codemirror_mode": {
    "name": "ipython",
    "version": 3
   },
   "file_extension": ".py",
   "mimetype": "text/x-python",
   "name": "python",
   "nbconvert_exporter": "python",
   "pygments_lexer": "ipython3",
   "version": "3.7.6"
  },
  "interpreter": {
   "hash": "60062bfbbdb55d7c70b884c78dba17d93f7bddb21846b67229a99cf865725014"
  }
 },
 "nbformat": 4,
 "nbformat_minor": 4
}