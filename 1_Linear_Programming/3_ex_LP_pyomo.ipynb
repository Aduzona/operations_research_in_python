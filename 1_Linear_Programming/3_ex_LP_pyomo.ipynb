{
 "cells": [
  {
   "cell_type": "code",
   "execution_count": 17,
   "source": [
    "import pyomo.environ as pyo\r\n",
    "from pyomo.environ import *\r\n",
    "from pyomo.opt import SolverFactory\r\n",
    "\r\n",
    "model = pyo.ConcreteModel()\r\n",
    "\r\n",
    "model.x = pyo.Var(bounds=(0,10))\r\n",
    "model.y = pyo.Var(bounds=(0,10))\r\n",
    "x = model.x\r\n",
    "y = model.y\r\n",
    "\r\n",
    "model.C1 = pyo.Constraint(expr= -x+2*y<=8)\r\n",
    "model.C2 = pyo.Constraint(expr= 2*x+y<=14)\r\n",
    "model.C3 = pyo.Constraint(expr= 2*x-y<=10)\r\n",
    "\r\n",
    "model.obj = pyo.Objective(expr= x+y, sense=maximize)\r\n",
    "\r\n",
    "#opt = SolverFactory('cplex')\r\n",
    "#opt = SolverFactory('glpk')\r\n",
    "opt = SolverFactory('gurobi')\r\n",
    "opt.solve(model)"
   ],
   "outputs": [
    {
     "output_type": "stream",
     "name": "stdout",
     "text": [
      "ERROR: Solver (gurobi) returned non-zero return code (1)\n",
      "ERROR: Solver log: Traceback (most recent call last):\n",
      "      File \"<stdin>\", line 5, in <module> File\n",
      "      \"C:\\Users\\aduzo\\Anaconda3\\lib\\site-\n",
      "      packages\\pyomo\\solvers\\plugins\\solvers\\GUROBI_RUN.py\", line 61, in\n",
      "      gurobi_run\n",
      "        model = read(model_file)\n",
      "      File \"gurobi.pxi\", line 3198, in gurobipy.read File \"gurobi.pxi\", line\n",
      "      80, in gurobipy.gurobi.read File \"gurobi.pxi\", line 32, in\n",
      "      gurobipy.gurobi._getdefaultenv File \"env.pxi\", line 67, in\n",
      "      gurobipy.Env.__init__\n",
      "    gurobipy.GurobiError: No Gurobi license found (user aduzo, host LAPTOP-\n",
      "    NFOO0RAQ, hostid d2be7930, cores 2)\n"
     ]
    },
    {
     "output_type": "error",
     "ename": "ApplicationError",
     "evalue": "Solver (gurobi) did not exit normally",
     "traceback": [
      "\u001b[1;31m---------------------------------------------------------------------------\u001b[0m",
      "\u001b[1;31mApplicationError\u001b[0m                          Traceback (most recent call last)",
      "\u001b[1;32m<ipython-input-17-f88e1d2397c3>\u001b[0m in \u001b[0;36m<module>\u001b[1;34m\u001b[0m\n\u001b[0;32m     19\u001b[0m \u001b[1;31m#opt = SolverFactory('cplex')\u001b[0m\u001b[1;33m\u001b[0m\u001b[1;33m\u001b[0m\u001b[1;33m\u001b[0m\u001b[0m\n\u001b[0;32m     20\u001b[0m \u001b[1;31m#opt = SolverFactory('glpk')\u001b[0m\u001b[1;33m\u001b[0m\u001b[1;33m\u001b[0m\u001b[1;33m\u001b[0m\u001b[0m\n\u001b[1;32m---> 21\u001b[1;33m \u001b[0mopt\u001b[0m\u001b[1;33m.\u001b[0m\u001b[0msolve\u001b[0m\u001b[1;33m(\u001b[0m\u001b[0mmodel\u001b[0m\u001b[1;33m)\u001b[0m\u001b[1;33m\u001b[0m\u001b[1;33m\u001b[0m\u001b[0m\n\u001b[0m",
      "\u001b[1;32m~\\Anaconda3\\lib\\site-packages\\pyomo\\opt\\base\\solvers.py\u001b[0m in \u001b[0;36msolve\u001b[1;34m(self, *args, **kwds)\u001b[0m\n\u001b[0;32m    600\u001b[0m                     \u001b[0mlogger\u001b[0m\u001b[1;33m.\u001b[0m\u001b[0merror\u001b[0m\u001b[1;33m(\u001b[0m\u001b[1;34m\"Solver log:\\n\"\u001b[0m \u001b[1;33m+\u001b[0m \u001b[0mstr\u001b[0m\u001b[1;33m(\u001b[0m\u001b[0m_status\u001b[0m\u001b[1;33m.\u001b[0m\u001b[0mlog\u001b[0m\u001b[1;33m)\u001b[0m\u001b[1;33m)\u001b[0m\u001b[1;33m\u001b[0m\u001b[1;33m\u001b[0m\u001b[0m\n\u001b[0;32m    601\u001b[0m                 raise ApplicationError(\n\u001b[1;32m--> 602\u001b[1;33m                     \"Solver (%s) did not exit normally\" % self.name)\n\u001b[0m\u001b[0;32m    603\u001b[0m             \u001b[0msolve_completion_time\u001b[0m \u001b[1;33m=\u001b[0m \u001b[0mtime\u001b[0m\u001b[1;33m.\u001b[0m\u001b[0mtime\u001b[0m\u001b[1;33m(\u001b[0m\u001b[1;33m)\u001b[0m\u001b[1;33m\u001b[0m\u001b[1;33m\u001b[0m\u001b[0m\n\u001b[0;32m    604\u001b[0m             \u001b[1;32mif\u001b[0m \u001b[0mself\u001b[0m\u001b[1;33m.\u001b[0m\u001b[0m_report_timing\u001b[0m\u001b[1;33m:\u001b[0m\u001b[1;33m\u001b[0m\u001b[1;33m\u001b[0m\u001b[0m\n",
      "\u001b[1;31mApplicationError\u001b[0m: Solver (gurobi) did not exit normally"
     ]
    }
   ],
   "metadata": {}
  },
  {
   "cell_type": "code",
   "execution_count": 7,
   "source": [
    "model.pprint()"
   ],
   "outputs": [
    {
     "output_type": "stream",
     "name": "stdout",
     "text": [
      "2 Var Declarations\n",
      "    x : Size=1, Index=None\n",
      "        Key  : Lower : Value : Upper : Fixed : Stale : Domain\n",
      "        None :     0 :   4.0 :    10 : False : False :  Reals\n",
      "    y : Size=1, Index=None\n",
      "        Key  : Lower : Value : Upper : Fixed : Stale : Domain\n",
      "        None :     0 :   6.0 :    10 : False : False :  Reals\n",
      "\n",
      "1 Objective Declarations\n",
      "    obj : Size=1, Index=None, Active=True\n",
      "        Key  : Active : Sense    : Expression\n",
      "        None :   True : maximize : x + y\n",
      "\n",
      "3 Constraint Declarations\n",
      "    C1 : Size=1, Index=None, Active=True\n",
      "        Key  : Lower : Body      : Upper : Active\n",
      "        None :  -Inf : - x + 2*y :   8.0 :   True\n",
      "    C2 : Size=1, Index=None, Active=True\n",
      "        Key  : Lower : Body    : Upper : Active\n",
      "        None :  -Inf : 2*x + y :  14.0 :   True\n",
      "    C3 : Size=1, Index=None, Active=True\n",
      "        Key  : Lower : Body    : Upper : Active\n",
      "        None :  -Inf : 2*x - y :  10.0 :   True\n",
      "\n",
      "6 Declarations: x y C1 C2 C3 obj\n"
     ]
    }
   ],
   "metadata": {}
  },
  {
   "cell_type": "code",
   "execution_count": 8,
   "source": [
    "x_value = pyo.value(x)\r\n",
    "y_value = pyo.value(y)"
   ],
   "outputs": [],
   "metadata": {}
  },
  {
   "cell_type": "code",
   "execution_count": 9,
   "source": [
    "print('\\n---------------------------------------------------------------------')\r\n",
    "print('x=',x_value)\r\n",
    "print('y=',y_value)"
   ],
   "outputs": [
    {
     "output_type": "stream",
     "name": "stdout",
     "text": [
      "\n",
      "---------------------------------------------------------------------\n",
      "x= 4.0\n",
      "y= 6.0\n"
     ]
    }
   ],
   "metadata": {}
  }
 ],
 "metadata": {
  "orig_nbformat": 4,
  "language_info": {
   "name": "python",
   "version": "3.7.6",
   "mimetype": "text/x-python",
   "codemirror_mode": {
    "name": "ipython",
    "version": 3
   },
   "pygments_lexer": "ipython3",
   "nbconvert_exporter": "python",
   "file_extension": ".py"
  },
  "kernelspec": {
   "name": "python3",
   "display_name": "Python 3.7.6 64-bit ('base': conda)"
  },
  "interpreter": {
   "hash": "60062bfbbdb55d7c70b884c78dba17d93f7bddb21846b67229a99cf865725014"
  }
 },
 "nbformat": 4,
 "nbformat_minor": 2
}