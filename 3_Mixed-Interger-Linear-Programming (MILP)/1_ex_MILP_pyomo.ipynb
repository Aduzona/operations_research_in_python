{
 "cells": [
  {
   "cell_type": "code",
   "execution_count": 1,
   "source": [
    "import pyomo.environ as pyo\r\n",
    "from pyomo.environ import *\r\n",
    "from pyomo.opt import SolverFactory"
   ],
   "outputs": [],
   "metadata": {}
  },
  {
   "cell_type": "code",
   "execution_count": null,
   "source": [
    "model = pyo.ConcreteModel()\r\n",
    "\r\n",
    "model.x = pyo.Var(within=Integers, bounds=(0,10))\r\n",
    "model.y = pyo.Var(bounds=(0,10))\r\n",
    "x = model.x\r\n",
    "y = model.y\r\n",
    "\r\n",
    "model.C1 = pyo.Constraint(expr= -x+2*y<=7)\r\n",
    "model.C2 = pyo.Constraint(expr= 2*x+y<=14)\r\n",
    "model.C3 = pyo.Constraint(expr= 2*x-y<=10)\r\n",
    "\r\n",
    "model.obj = pyo.Objective(expr= x+y, sense=maximize)\r\n",
    "\r\n",
    "opt = SolverFactory('glpk')\r\n",
    "opt.solve(model)\r\n",
    "\r\n",
    "model.pprint()\r\n",
    "\r\n",
    "x_value = pyo.value(x)\r\n",
    "y_value = pyo.value(y)\r\n",
    "\r\n",
    "print('\\n---------------------------------------------------------------------')\r\n",
    "print('x=',x_value)\r\n",
    "print('y=',y_value)"
   ],
   "outputs": [],
   "metadata": {}
  }
 ],
 "metadata": {
  "orig_nbformat": 4,
  "language_info": {
   "name": "python",
   "version": "3.7.6",
   "mimetype": "text/x-python",
   "codemirror_mode": {
    "name": "ipython",
    "version": 3
   },
   "pygments_lexer": "ipython3",
   "nbconvert_exporter": "python",
   "file_extension": ".py"
  },
  "kernelspec": {
   "name": "python3",
   "display_name": "Python 3.7.6 64-bit ('base': conda)"
  },
  "interpreter": {
   "hash": "60062bfbbdb55d7c70b884c78dba17d93f7bddb21846b67229a99cf865725014"
  }
 },
 "nbformat": 4,
 "nbformat_minor": 2
}