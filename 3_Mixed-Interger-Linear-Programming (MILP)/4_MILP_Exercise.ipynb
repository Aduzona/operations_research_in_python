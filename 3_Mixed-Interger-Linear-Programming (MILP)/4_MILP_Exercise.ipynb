{
 "cells": [
  {
   "cell_type": "code",
   "execution_count": null,
   "source": [],
   "outputs": [],
   "metadata": {}
  },
  {
   "cell_type": "code",
   "execution_count": 1,
   "source": [
    "import pyomo.environ as pyo\r\n",
    "from pyomo.environ import *\r\n",
    "from pyomo.opt import SolverFactory\r\n",
    "import pandas as pd"
   ],
   "outputs": [],
   "metadata": {}
  },
  {
   "cell_type": "code",
   "execution_count": 107,
   "source": [
    "model = pyo.ConcreteModel()\r\n",
    "model.Xi = pyo.Var(range(1,6), within=Integers,bounds=(0,None))\r\n",
    "model.Xi.pprint()"
   ],
   "outputs": [
    {
     "output_type": "stream",
     "name": "stdout",
     "text": [
      "Xi : Size=5, Index=Xi_index\n",
      "    Key : Lower : Value : Upper : Fixed : Stale : Domain\n",
      "      1 :     0 :  None :  None : False :  True : Integers\n",
      "      2 :     0 :  None :  None : False :  True : Integers\n",
      "      3 :     0 :  None :  None : False :  True : Integers\n",
      "      4 :     0 :  None :  None : False :  True : Integers\n",
      "      5 :     0 :  None :  None : False :  True : Integers\n"
     ]
    }
   ],
   "metadata": {}
  },
  {
   "cell_type": "code",
   "execution_count": 108,
   "source": [
    "Xi=model.Xi"
   ],
   "outputs": [],
   "metadata": {}
  },
  {
   "cell_type": "code",
   "execution_count": 109,
   "source": [
    "model.y = pyo.Var(bounds=(0,None))\r\n",
    "model.y.pprint()"
   ],
   "outputs": [
    {
     "output_type": "stream",
     "name": "stdout",
     "text": [
      "y : Size=1, Index=None\n",
      "    Key  : Lower : Value : Upper : Fixed : Stale : Domain\n",
      "    None :     0 :  None :  None : False :  True :  Reals\n"
     ]
    }
   ],
   "metadata": {}
  },
  {
   "cell_type": "code",
   "execution_count": 110,
   "source": [
    "y=model.y"
   ],
   "outputs": [],
   "metadata": {}
  },
  {
   "cell_type": "markdown",
   "source": [
    "## Constraints"
   ],
   "metadata": {}
  },
  {
   "cell_type": "code",
   "execution_count": 111,
   "source": [
    "print(sum(Xi[i] for i in range(1,6)))"
   ],
   "outputs": [
    {
     "output_type": "stream",
     "name": "stdout",
     "text": [
      "Xi[1] + Xi[2] + Xi[3] + Xi[4] + Xi[5]\n"
     ]
    }
   ],
   "metadata": {}
  },
  {
   "cell_type": "code",
   "execution_count": 112,
   "source": [
    "xi_sum=sum(Xi[i] for i in range(1,6))\r\n",
    "model.const1=pyo.Constraint(expr=xi_sum+y<=20)"
   ],
   "outputs": [],
   "metadata": {}
  },
  {
   "cell_type": "code",
   "execution_count": 113,
   "source": [
    "model.const1.pprint()"
   ],
   "outputs": [
    {
     "output_type": "stream",
     "name": "stdout",
     "text": [
      "const1 : Size=1, Index=None, Active=True\n",
      "    Key  : Lower : Body                                      : Upper : Active\n",
      "    None :  -Inf : Xi[1] + Xi[2] + Xi[3] + Xi[4] + Xi[5] + y :  20.0 :   True\n"
     ]
    }
   ],
   "metadata": {}
  },
  {
   "cell_type": "markdown",
   "source": [
    "## Constraint 2"
   ],
   "metadata": {}
  },
  {
   "cell_type": "code",
   "execution_count": 114,
   "source": [
    "model.const2=pyo.ConstraintList()"
   ],
   "outputs": [],
   "metadata": {}
  },
  {
   "cell_type": "code",
   "execution_count": 115,
   "source": [
    "\r\n",
    "for i in range(1,6):\r\n",
    "    model.const2.add(expr=Xi[i]+y>= 15)"
   ],
   "outputs": [],
   "metadata": {}
  },
  {
   "cell_type": "code",
   "execution_count": 116,
   "source": [
    "model.const2.pprint()"
   ],
   "outputs": [
    {
     "output_type": "stream",
     "name": "stdout",
     "text": [
      "const2 : Size=5, Index=const2_index, Active=True\n",
      "    Key : Lower : Body      : Upper : Active\n",
      "      1 :  15.0 : Xi[1] + y :  +Inf :   True\n",
      "      2 :  15.0 : Xi[2] + y :  +Inf :   True\n",
      "      3 :  15.0 : Xi[3] + y :  +Inf :   True\n",
      "      4 :  15.0 : Xi[4] + y :  +Inf :   True\n",
      "      5 :  15.0 : Xi[5] + y :  +Inf :   True\n"
     ]
    }
   ],
   "metadata": {}
  },
  {
   "cell_type": "markdown",
   "source": [
    "## Constraint 3\r\n"
   ],
   "metadata": {}
  },
  {
   "cell_type": "code",
   "execution_count": 117,
   "source": [
    "print(sum(i*Xi[i] for i in range(1,6)))"
   ],
   "outputs": [
    {
     "output_type": "stream",
     "name": "stdout",
     "text": [
      "Xi[1] + 2*Xi[2] + 3*Xi[3] + 4*Xi[4] + 5*Xi[5]\n"
     ]
    }
   ],
   "metadata": {}
  },
  {
   "cell_type": "code",
   "execution_count": 118,
   "source": [
    "model.const3=pyo.Constraint(expr= sum(i*Xi[i] for i in range(1,6)) >= 10)"
   ],
   "outputs": [],
   "metadata": {}
  },
  {
   "cell_type": "code",
   "execution_count": 119,
   "source": [
    "model.const3.pprint()"
   ],
   "outputs": [
    {
     "output_type": "stream",
     "name": "stdout",
     "text": [
      "const3 : Size=1, Index=None, Active=True\n",
      "    Key  : Lower : Body                                          : Upper : Active\n",
      "    None :  10.0 : Xi[1] + 2*Xi[2] + 3*Xi[3] + 4*Xi[4] + 5*Xi[5] :  +Inf :   True\n"
     ]
    }
   ],
   "metadata": {}
  },
  {
   "cell_type": "markdown",
   "source": [
    "## Constraint 4"
   ],
   "metadata": {}
  },
  {
   "cell_type": "code",
   "execution_count": 120,
   "source": [
    "model.const4=pyo.Constraint(expr=Xi[5]+(2*y)>=30)"
   ],
   "outputs": [],
   "metadata": {}
  },
  {
   "cell_type": "code",
   "execution_count": 121,
   "source": [
    "model.const4.pprint()"
   ],
   "outputs": [
    {
     "output_type": "stream",
     "name": "stdout",
     "text": [
      "const4 : Size=1, Index=None, Active=True\n",
      "    Key  : Lower : Body        : Upper : Active\n",
      "    None :  30.0 : Xi[5] + 2*y :  +Inf :   True\n"
     ]
    }
   ],
   "metadata": {}
  },
  {
   "cell_type": "markdown",
   "source": [
    "## Objective Function"
   ],
   "metadata": {}
  },
  {
   "cell_type": "code",
   "execution_count": 122,
   "source": [
    "model.obj=pyo.Objective(expr=sum(Xi[i] for i in range(1,6))+y)# by default it is minimize"
   ],
   "outputs": [],
   "metadata": {}
  },
  {
   "cell_type": "code",
   "execution_count": 123,
   "source": [
    "model.obj.pprint()"
   ],
   "outputs": [
    {
     "output_type": "stream",
     "name": "stdout",
     "text": [
      "obj : Size=1, Index=None, Active=True\n",
      "    Key  : Active : Sense    : Expression\n",
      "    None :   True : minimize : Xi[1] + Xi[2] + Xi[3] + Xi[4] + Xi[5] + y\n"
     ]
    }
   ],
   "metadata": {}
  },
  {
   "cell_type": "code",
   "execution_count": 124,
   "source": [
    "model.pprint()# print all formulations"
   ],
   "outputs": [
    {
     "output_type": "stream",
     "name": "stdout",
     "text": [
      "2 Set Declarations\n",
      "    Xi_index : Size=1, Index=None, Ordered=False\n",
      "        Key  : Dimen : Domain : Size : Members\n",
      "        None :     1 :    Any :    5 : {1, 2, 3, 4, 5}\n",
      "    const2_index : Size=1, Index=None, Ordered=Insertion\n",
      "        Key  : Dimen : Domain : Size : Members\n",
      "        None :     1 :    Any :    5 : {1, 2, 3, 4, 5}\n",
      "\n",
      "2 Var Declarations\n",
      "    Xi : Size=5, Index=Xi_index\n",
      "        Key : Lower : Value : Upper : Fixed : Stale : Domain\n",
      "          1 :     0 :  None :  None : False :  True : Integers\n",
      "          2 :     0 :  None :  None : False :  True : Integers\n",
      "          3 :     0 :  None :  None : False :  True : Integers\n",
      "          4 :     0 :  None :  None : False :  True : Integers\n",
      "          5 :     0 :  None :  None : False :  True : Integers\n",
      "    y : Size=1, Index=None\n",
      "        Key  : Lower : Value : Upper : Fixed : Stale : Domain\n",
      "        None :     0 :  None :  None : False :  True :  Reals\n",
      "\n",
      "1 Objective Declarations\n",
      "    obj : Size=1, Index=None, Active=True\n",
      "        Key  : Active : Sense    : Expression\n",
      "        None :   True : minimize : Xi[1] + Xi[2] + Xi[3] + Xi[4] + Xi[5] + y\n",
      "\n",
      "4 Constraint Declarations\n",
      "    const1 : Size=1, Index=None, Active=True\n",
      "        Key  : Lower : Body                                      : Upper : Active\n",
      "        None :  -Inf : Xi[1] + Xi[2] + Xi[3] + Xi[4] + Xi[5] + y :  20.0 :   True\n",
      "    const2 : Size=5, Index=const2_index, Active=True\n",
      "        Key : Lower : Body      : Upper : Active\n",
      "          1 :  15.0 : Xi[1] + y :  +Inf :   True\n",
      "          2 :  15.0 : Xi[2] + y :  +Inf :   True\n",
      "          3 :  15.0 : Xi[3] + y :  +Inf :   True\n",
      "          4 :  15.0 : Xi[4] + y :  +Inf :   True\n",
      "          5 :  15.0 : Xi[5] + y :  +Inf :   True\n",
      "    const3 : Size=1, Index=None, Active=True\n",
      "        Key  : Lower : Body                                          : Upper : Active\n",
      "        None :  10.0 : Xi[1] + 2*Xi[2] + 3*Xi[3] + 4*Xi[4] + 5*Xi[5] :  +Inf :   True\n",
      "    const4 : Size=1, Index=None, Active=True\n",
      "        Key  : Lower : Body        : Upper : Active\n",
      "        None :  30.0 : Xi[5] + 2*y :  +Inf :   True\n",
      "\n",
      "9 Declarations: Xi_index Xi y const1 const2_index const2 const3 const4 obj\n"
     ]
    }
   ],
   "metadata": {}
  },
  {
   "cell_type": "markdown",
   "source": [
    "## Define Solver"
   ],
   "metadata": {}
  },
  {
   "cell_type": "code",
   "execution_count": 125,
   "source": [
    "opt = SolverFactory('glpk')\r\n",
    "results = opt.solve(model)"
   ],
   "outputs": [],
   "metadata": {}
  },
  {
   "cell_type": "code",
   "execution_count": 126,
   "source": [
    "print(pyo.value(Xi[5]))"
   ],
   "outputs": [
    {
     "output_type": "stream",
     "name": "stdout",
     "text": [
      "2.0\n"
     ]
    }
   ],
   "metadata": {}
  },
  {
   "cell_type": "code",
   "execution_count": 127,
   "source": [
    "print(pyo.value(y))"
   ],
   "outputs": [
    {
     "output_type": "stream",
     "name": "stdout",
     "text": [
      "15.0\n"
     ]
    }
   ],
   "metadata": {}
  },
  {
   "cell_type": "code",
   "execution_count": 128,
   "source": [
    "for i in range(1,6):\r\n",
    "    print(pyo.value(Xi[i]))"
   ],
   "outputs": [
    {
     "output_type": "stream",
     "name": "stdout",
     "text": [
      "0.0\n",
      "0.0\n",
      "0.0\n",
      "0.0\n",
      "2.0\n"
     ]
    }
   ],
   "metadata": {}
  },
  {
   "cell_type": "code",
   "execution_count": 129,
   "source": [
    "print('X values are {}'.format([pyo.value(Xi[i]) for i in range(1,6) ]))\r\n",
    "print('y value is {}'.format(pyo.value(y)))"
   ],
   "outputs": [
    {
     "output_type": "stream",
     "name": "stdout",
     "text": [
      "X values are [0.0, 0.0, 0.0, 0.0, 2.0]\n",
      "y value is 15.0\n"
     ]
    }
   ],
   "metadata": {}
  },
  {
   "cell_type": "code",
   "execution_count": 130,
   "source": [
    "print('Obj = ', pyo.value(model.obj))"
   ],
   "outputs": [
    {
     "output_type": "stream",
     "name": "stdout",
     "text": [
      "Obj =  17.0\n"
     ]
    }
   ],
   "metadata": {}
  }
 ],
 "metadata": {
  "orig_nbformat": 4,
  "language_info": {
   "name": "python",
   "version": "3.7.6",
   "mimetype": "text/x-python",
   "codemirror_mode": {
    "name": "ipython",
    "version": 3
   },
   "pygments_lexer": "ipython3",
   "nbconvert_exporter": "python",
   "file_extension": ".py"
  },
  "kernelspec": {
   "name": "python3",
   "display_name": "Python 3.7.6 64-bit ('base': conda)"
  },
  "interpreter": {
   "hash": "60062bfbbdb55d7c70b884c78dba17d93f7bddb21846b67229a99cf865725014"
  }
 },
 "nbformat": 4,
 "nbformat_minor": 2
}