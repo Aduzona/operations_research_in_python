{
 "cells": [
  {
   "cell_type": "code",
   "execution_count": null,
   "source": [],
   "outputs": [],
   "metadata": {}
  },
  {
   "cell_type": "code",
   "execution_count": 82,
   "source": [
    "import pyomo.environ as pyo\r\n",
    "#from pyomo.environ import *\r\n",
    "from pyomo.opt import SolverFactory"
   ],
   "outputs": [],
   "metadata": {}
  },
  {
   "cell_type": "code",
   "execution_count": 83,
   "source": [
    "#creation of the model and variables\r\n",
    "model = pyo.ConcreteModel()\r\n",
    "model.x=pyo.Var(range(1,5),range(1,11),within=pyo.Integers,bounds=(0,10))\r\n",
    "x=model.x"
   ],
   "outputs": [],
   "metadata": {}
  },
  {
   "cell_type": "code",
   "execution_count": 84,
   "source": [
    "x.pprint()"
   ],
   "outputs": [
    {
     "output_type": "stream",
     "name": "stdout",
     "text": [
      "x : Size=40, Index=x_index\n",
      "    Key     : Lower : Value : Upper : Fixed : Stale : Domain\n",
      "     (1, 1) :     0 :  None :    10 : False :  True : Integers\n",
      "     (1, 2) :     0 :  None :    10 : False :  True : Integers\n",
      "     (1, 3) :     0 :  None :    10 : False :  True : Integers\n",
      "     (1, 4) :     0 :  None :    10 : False :  True : Integers\n",
      "     (1, 5) :     0 :  None :    10 : False :  True : Integers\n",
      "     (1, 6) :     0 :  None :    10 : False :  True : Integers\n",
      "     (1, 7) :     0 :  None :    10 : False :  True : Integers\n",
      "     (1, 8) :     0 :  None :    10 : False :  True : Integers\n",
      "     (1, 9) :     0 :  None :    10 : False :  True : Integers\n",
      "    (1, 10) :     0 :  None :    10 : False :  True : Integers\n",
      "     (2, 1) :     0 :  None :    10 : False :  True : Integers\n",
      "     (2, 2) :     0 :  None :    10 : False :  True : Integers\n",
      "     (2, 3) :     0 :  None :    10 : False :  True : Integers\n",
      "     (2, 4) :     0 :  None :    10 : False :  True : Integers\n",
      "     (2, 5) :     0 :  None :    10 : False :  True : Integers\n",
      "     (2, 6) :     0 :  None :    10 : False :  True : Integers\n",
      "     (2, 7) :     0 :  None :    10 : False :  True : Integers\n",
      "     (2, 8) :     0 :  None :    10 : False :  True : Integers\n",
      "     (2, 9) :     0 :  None :    10 : False :  True : Integers\n",
      "    (2, 10) :     0 :  None :    10 : False :  True : Integers\n",
      "     (3, 1) :     0 :  None :    10 : False :  True : Integers\n",
      "     (3, 2) :     0 :  None :    10 : False :  True : Integers\n",
      "     (3, 3) :     0 :  None :    10 : False :  True : Integers\n",
      "     (3, 4) :     0 :  None :    10 : False :  True : Integers\n",
      "     (3, 5) :     0 :  None :    10 : False :  True : Integers\n",
      "     (3, 6) :     0 :  None :    10 : False :  True : Integers\n",
      "     (3, 7) :     0 :  None :    10 : False :  True : Integers\n",
      "     (3, 8) :     0 :  None :    10 : False :  True : Integers\n",
      "     (3, 9) :     0 :  None :    10 : False :  True : Integers\n",
      "    (3, 10) :     0 :  None :    10 : False :  True : Integers\n",
      "     (4, 1) :     0 :  None :    10 : False :  True : Integers\n",
      "     (4, 2) :     0 :  None :    10 : False :  True : Integers\n",
      "     (4, 3) :     0 :  None :    10 : False :  True : Integers\n",
      "     (4, 4) :     0 :  None :    10 : False :  True : Integers\n",
      "     (4, 5) :     0 :  None :    10 : False :  True : Integers\n",
      "     (4, 6) :     0 :  None :    10 : False :  True : Integers\n",
      "     (4, 7) :     0 :  None :    10 : False :  True : Integers\n",
      "     (4, 8) :     0 :  None :    10 : False :  True : Integers\n",
      "     (4, 9) :     0 :  None :    10 : False :  True : Integers\n",
      "    (4, 10) :     0 :  None :    10 : False :  True : Integers\n"
     ]
    }
   ],
   "metadata": {}
  },
  {
   "cell_type": "code",
   "execution_count": 85,
   "source": [
    "print(sum(x[m,t] for m in range(1,5) for t in range(1,11)))"
   ],
   "outputs": [
    {
     "output_type": "stream",
     "name": "stdout",
     "text": [
      "x[1,1] + x[1,2] + x[1,3] + x[1,4] + x[1,5] + x[1,6] + x[1,7] + x[1,8] + x[1,9] + x[1,10] + x[2,1] + x[2,2] + x[2,3] + x[2,4] + x[2,5] + x[2,6] + x[2,7] + x[2,8] + x[2,9] + x[2,10] + x[3,1] + x[3,2] + x[3,3] + x[3,4] + x[3,5] + x[3,6] + x[3,7] + x[3,8] + x[3,9] + x[3,10] + x[4,1] + x[4,2] + x[4,3] + x[4,4] + x[4,5] + x[4,6] + x[4,7] + x[4,8] + x[4,9] + x[4,10]\n"
     ]
    }
   ],
   "metadata": {}
  },
  {
   "cell_type": "code",
   "execution_count": 86,
   "source": [
    "# Objective Functions\r\n",
    "model.obj=pyo.Objective(expr=sum(x[m,t] for m in range(1,5) for t in range(1,11)),sense=pyo.maximize)"
   ],
   "outputs": [],
   "metadata": {}
  },
  {
   "cell_type": "code",
   "execution_count": 87,
   "source": [
    "# Constraints\r\n",
    "model.C1=pyo.ConstraintList()\r\n",
    "\r\n",
    "for t in range(1,11):\r\n",
    "    model.C1.add(expr=2*x[2,t]-8*x[3,t]<=0)"
   ],
   "outputs": [],
   "metadata": {}
  },
  {
   "cell_type": "code",
   "execution_count": 88,
   "source": [
    "model.C1.pprint()"
   ],
   "outputs": [
    {
     "output_type": "stream",
     "name": "stdout",
     "text": [
      "C1 : Size=10, Index=C1_index, Active=True\n",
      "    Key : Lower : Body                  : Upper : Active\n",
      "      1 :  -Inf :   2*x[2,1] - 8*x[3,1] :   0.0 :   True\n",
      "      2 :  -Inf :   2*x[2,2] - 8*x[3,2] :   0.0 :   True\n",
      "      3 :  -Inf :   2*x[2,3] - 8*x[3,3] :   0.0 :   True\n",
      "      4 :  -Inf :   2*x[2,4] - 8*x[3,4] :   0.0 :   True\n",
      "      5 :  -Inf :   2*x[2,5] - 8*x[3,5] :   0.0 :   True\n",
      "      6 :  -Inf :   2*x[2,6] - 8*x[3,6] :   0.0 :   True\n",
      "      7 :  -Inf :   2*x[2,7] - 8*x[3,7] :   0.0 :   True\n",
      "      8 :  -Inf :   2*x[2,8] - 8*x[3,8] :   0.0 :   True\n",
      "      9 :  -Inf :   2*x[2,9] - 8*x[3,9] :   0.0 :   True\n",
      "     10 :  -Inf : 2*x[2,10] - 8*x[3,10] :   0.0 :   True\n"
     ]
    }
   ],
   "metadata": {}
  },
  {
   "cell_type": "code",
   "execution_count": 89,
   "source": [
    "model.C2=pyo.ConstraintList()\r\n",
    "\r\n",
    "for t in range(3,11):\r\n",
    "    model.C2.add(expr=x[2,t]-2*x[3,t-2]+x[4,t]>=1)\r\n",
    "\r\n",
    "model.C2.pprint()"
   ],
   "outputs": [
    {
     "output_type": "stream",
     "name": "stdout",
     "text": [
      "C2 : Size=8, Index=C2_index, Active=True\n",
      "    Key : Lower : Body                         : Upper : Active\n",
      "      1 :   1.0 :   x[2,3] - 2*x[3,1] + x[4,3] :  +Inf :   True\n",
      "      2 :   1.0 :   x[2,4] - 2*x[3,2] + x[4,4] :  +Inf :   True\n",
      "      3 :   1.0 :   x[2,5] - 2*x[3,3] + x[4,5] :  +Inf :   True\n",
      "      4 :   1.0 :   x[2,6] - 2*x[3,4] + x[4,6] :  +Inf :   True\n",
      "      5 :   1.0 :   x[2,7] - 2*x[3,5] + x[4,7] :  +Inf :   True\n",
      "      6 :   1.0 :   x[2,8] - 2*x[3,6] + x[4,8] :  +Inf :   True\n",
      "      7 :   1.0 :   x[2,9] - 2*x[3,7] + x[4,9] :  +Inf :   True\n",
      "      8 :   1.0 : x[2,10] - 2*x[3,8] + x[4,10] :  +Inf :   True\n"
     ]
    }
   ],
   "metadata": {}
  },
  {
   "cell_type": "code",
   "execution_count": 90,
   "source": [
    "# Constraint 3\r\n",
    "for t in range(1,11):\r\n",
    "    print(sum(x[m,t] for m in range(1,5)))"
   ],
   "outputs": [
    {
     "output_type": "stream",
     "name": "stdout",
     "text": [
      "x[1,1] + x[2,1] + x[3,1] + x[4,1]\n",
      "x[1,2] + x[2,2] + x[3,2] + x[4,2]\n",
      "x[1,3] + x[2,3] + x[3,3] + x[4,3]\n",
      "x[1,4] + x[2,4] + x[3,4] + x[4,4]\n",
      "x[1,5] + x[2,5] + x[3,5] + x[4,5]\n",
      "x[1,6] + x[2,6] + x[3,6] + x[4,6]\n",
      "x[1,7] + x[2,7] + x[3,7] + x[4,7]\n",
      "x[1,8] + x[2,8] + x[3,8] + x[4,8]\n",
      "x[1,9] + x[2,9] + x[3,9] + x[4,9]\n",
      "x[1,10] + x[2,10] + x[3,10] + x[4,10]\n"
     ]
    }
   ],
   "metadata": {}
  },
  {
   "cell_type": "code",
   "execution_count": 91,
   "source": [
    "model.C3=pyo.ConstraintList()\r\n",
    "\r\n",
    "for t in range(1,11):\r\n",
    "    model.C3.add(expr=sum(x[m,t] for m in range(1,5))<=50)\r\n",
    "\r\n",
    "model.C3.pprint()"
   ],
   "outputs": [
    {
     "output_type": "stream",
     "name": "stdout",
     "text": [
      "C3 : Size=10, Index=C3_index, Active=True\n",
      "    Key : Lower : Body                                  : Upper : Active\n",
      "      1 :  -Inf :     x[1,1] + x[2,1] + x[3,1] + x[4,1] :  50.0 :   True\n",
      "      2 :  -Inf :     x[1,2] + x[2,2] + x[3,2] + x[4,2] :  50.0 :   True\n",
      "      3 :  -Inf :     x[1,3] + x[2,3] + x[3,3] + x[4,3] :  50.0 :   True\n",
      "      4 :  -Inf :     x[1,4] + x[2,4] + x[3,4] + x[4,4] :  50.0 :   True\n",
      "      5 :  -Inf :     x[1,5] + x[2,5] + x[3,5] + x[4,5] :  50.0 :   True\n",
      "      6 :  -Inf :     x[1,6] + x[2,6] + x[3,6] + x[4,6] :  50.0 :   True\n",
      "      7 :  -Inf :     x[1,7] + x[2,7] + x[3,7] + x[4,7] :  50.0 :   True\n",
      "      8 :  -Inf :     x[1,8] + x[2,8] + x[3,8] + x[4,8] :  50.0 :   True\n",
      "      9 :  -Inf :     x[1,9] + x[2,9] + x[3,9] + x[4,9] :  50.0 :   True\n",
      "     10 :  -Inf : x[1,10] + x[2,10] + x[3,10] + x[4,10] :  50.0 :   True\n"
     ]
    }
   ],
   "metadata": {}
  },
  {
   "cell_type": "code",
   "execution_count": 92,
   "source": [
    "# Constraint 4\r\n",
    "\r\n",
    "model.C4=pyo.ConstraintList()\r\n",
    "\r\n",
    "for t in range(2,11):\r\n",
    "    model.C4.add(expr=x[1,t]+x[2,t-1]+x[3,t]+x[4,t]<=10)\r\n",
    "\r\n",
    "model.C4.pprint()"
   ],
   "outputs": [
    {
     "output_type": "stream",
     "name": "stdout",
     "text": [
      "C4 : Size=9, Index=C4_index, Active=True\n",
      "    Key : Lower : Body                                 : Upper : Active\n",
      "      1 :  -Inf :    x[1,2] + x[2,1] + x[3,2] + x[4,2] :  10.0 :   True\n",
      "      2 :  -Inf :    x[1,3] + x[2,2] + x[3,3] + x[4,3] :  10.0 :   True\n",
      "      3 :  -Inf :    x[1,4] + x[2,3] + x[3,4] + x[4,4] :  10.0 :   True\n",
      "      4 :  -Inf :    x[1,5] + x[2,4] + x[3,5] + x[4,5] :  10.0 :   True\n",
      "      5 :  -Inf :    x[1,6] + x[2,5] + x[3,6] + x[4,6] :  10.0 :   True\n",
      "      6 :  -Inf :    x[1,7] + x[2,6] + x[3,7] + x[4,7] :  10.0 :   True\n",
      "      7 :  -Inf :    x[1,8] + x[2,7] + x[3,8] + x[4,8] :  10.0 :   True\n",
      "      8 :  -Inf :    x[1,9] + x[2,8] + x[3,9] + x[4,9] :  10.0 :   True\n",
      "      9 :  -Inf : x[1,10] + x[2,9] + x[3,10] + x[4,10] :  10.0 :   True\n"
     ]
    }
   ],
   "metadata": {}
  },
  {
   "cell_type": "code",
   "execution_count": 93,
   "source": [
    "model.pprint()"
   ],
   "outputs": [
    {
     "output_type": "stream",
     "name": "stdout",
     "text": [
      "7 Set Declarations\n",
      "    C1_index : Size=1, Index=None, Ordered=Insertion\n",
      "        Key  : Dimen : Domain : Size : Members\n",
      "        None :     1 :    Any :   10 : {1, 2, 3, 4, 5, 6, 7, 8, 9, 10}\n",
      "    C2_index : Size=1, Index=None, Ordered=Insertion\n",
      "        Key  : Dimen : Domain : Size : Members\n",
      "        None :     1 :    Any :    8 : {1, 2, 3, 4, 5, 6, 7, 8}\n",
      "    C3_index : Size=1, Index=None, Ordered=Insertion\n",
      "        Key  : Dimen : Domain : Size : Members\n",
      "        None :     1 :    Any :   10 : {1, 2, 3, 4, 5, 6, 7, 8, 9, 10}\n",
      "    C4_index : Size=1, Index=None, Ordered=Insertion\n",
      "        Key  : Dimen : Domain : Size : Members\n",
      "        None :     1 :    Any :    9 : {1, 2, 3, 4, 5, 6, 7, 8, 9}\n",
      "    x_index : Size=1, Index=None, Ordered=False\n",
      "        Key  : Dimen : Domain              : Size : Members\n",
      "        None :     2 : x_index_0*x_index_1 :   40 : {(1, 1), (1, 2), (1, 3), (1, 4), (1, 5), (1, 6), (1, 7), (1, 8), (1, 9), (1, 10), (2, 1), (2, 2), (2, 3), (2, 4), (2, 5), (2, 6), (2, 7), (2, 8), (2, 9), (2, 10), (3, 1), (3, 2), (3, 3), (3, 4), (3, 5), (3, 6), (3, 7), (3, 8), (3, 9), (3, 10), (4, 1), (4, 2), (4, 3), (4, 4), (4, 5), (4, 6), (4, 7), (4, 8), (4, 9), (4, 10)}\n",
      "    x_index_0 : Size=1, Index=None, Ordered=False\n",
      "        Key  : Dimen : Domain : Size : Members\n",
      "        None :     1 :    Any :    4 : {1, 2, 3, 4}\n",
      "    x_index_1 : Size=1, Index=None, Ordered=False\n",
      "        Key  : Dimen : Domain : Size : Members\n",
      "        None :     1 :    Any :   10 : {1, 2, 3, 4, 5, 6, 7, 8, 9, 10}\n",
      "\n",
      "1 Var Declarations\n",
      "    x : Size=40, Index=x_index\n",
      "        Key     : Lower : Value : Upper : Fixed : Stale : Domain\n",
      "         (1, 1) :     0 :  None :    10 : False :  True : Integers\n",
      "         (1, 2) :     0 :  None :    10 : False :  True : Integers\n",
      "         (1, 3) :     0 :  None :    10 : False :  True : Integers\n",
      "         (1, 4) :     0 :  None :    10 : False :  True : Integers\n",
      "         (1, 5) :     0 :  None :    10 : False :  True : Integers\n",
      "         (1, 6) :     0 :  None :    10 : False :  True : Integers\n",
      "         (1, 7) :     0 :  None :    10 : False :  True : Integers\n",
      "         (1, 8) :     0 :  None :    10 : False :  True : Integers\n",
      "         (1, 9) :     0 :  None :    10 : False :  True : Integers\n",
      "        (1, 10) :     0 :  None :    10 : False :  True : Integers\n",
      "         (2, 1) :     0 :  None :    10 : False :  True : Integers\n",
      "         (2, 2) :     0 :  None :    10 : False :  True : Integers\n",
      "         (2, 3) :     0 :  None :    10 : False :  True : Integers\n",
      "         (2, 4) :     0 :  None :    10 : False :  True : Integers\n",
      "         (2, 5) :     0 :  None :    10 : False :  True : Integers\n",
      "         (2, 6) :     0 :  None :    10 : False :  True : Integers\n",
      "         (2, 7) :     0 :  None :    10 : False :  True : Integers\n",
      "         (2, 8) :     0 :  None :    10 : False :  True : Integers\n",
      "         (2, 9) :     0 :  None :    10 : False :  True : Integers\n",
      "        (2, 10) :     0 :  None :    10 : False :  True : Integers\n",
      "         (3, 1) :     0 :  None :    10 : False :  True : Integers\n",
      "         (3, 2) :     0 :  None :    10 : False :  True : Integers\n",
      "         (3, 3) :     0 :  None :    10 : False :  True : Integers\n",
      "         (3, 4) :     0 :  None :    10 : False :  True : Integers\n",
      "         (3, 5) :     0 :  None :    10 : False :  True : Integers\n",
      "         (3, 6) :     0 :  None :    10 : False :  True : Integers\n",
      "         (3, 7) :     0 :  None :    10 : False :  True : Integers\n",
      "         (3, 8) :     0 :  None :    10 : False :  True : Integers\n",
      "         (3, 9) :     0 :  None :    10 : False :  True : Integers\n",
      "        (3, 10) :     0 :  None :    10 : False :  True : Integers\n",
      "         (4, 1) :     0 :  None :    10 : False :  True : Integers\n",
      "         (4, 2) :     0 :  None :    10 : False :  True : Integers\n",
      "         (4, 3) :     0 :  None :    10 : False :  True : Integers\n",
      "         (4, 4) :     0 :  None :    10 : False :  True : Integers\n",
      "         (4, 5) :     0 :  None :    10 : False :  True : Integers\n",
      "         (4, 6) :     0 :  None :    10 : False :  True : Integers\n",
      "         (4, 7) :     0 :  None :    10 : False :  True : Integers\n",
      "         (4, 8) :     0 :  None :    10 : False :  True : Integers\n",
      "         (4, 9) :     0 :  None :    10 : False :  True : Integers\n",
      "        (4, 10) :     0 :  None :    10 : False :  True : Integers\n",
      "\n",
      "1 Objective Declarations\n",
      "    obj : Size=1, Index=None, Active=True\n",
      "        Key  : Active : Sense    : Expression\n",
      "        None :   True : maximize : x[1,1] + x[1,2] + x[1,3] + x[1,4] + x[1,5] + x[1,6] + x[1,7] + x[1,8] + x[1,9] + x[1,10] + x[2,1] + x[2,2] + x[2,3] + x[2,4] + x[2,5] + x[2,6] + x[2,7] + x[2,8] + x[2,9] + x[2,10] + x[3,1] + x[3,2] + x[3,3] + x[3,4] + x[3,5] + x[3,6] + x[3,7] + x[3,8] + x[3,9] + x[3,10] + x[4,1] + x[4,2] + x[4,3] + x[4,4] + x[4,5] + x[4,6] + x[4,7] + x[4,8] + x[4,9] + x[4,10]\n",
      "\n",
      "4 Constraint Declarations\n",
      "    C1 : Size=10, Index=C1_index, Active=True\n",
      "        Key : Lower : Body                  : Upper : Active\n",
      "          1 :  -Inf :   2*x[2,1] - 8*x[3,1] :   0.0 :   True\n",
      "          2 :  -Inf :   2*x[2,2] - 8*x[3,2] :   0.0 :   True\n",
      "          3 :  -Inf :   2*x[2,3] - 8*x[3,3] :   0.0 :   True\n",
      "          4 :  -Inf :   2*x[2,4] - 8*x[3,4] :   0.0 :   True\n",
      "          5 :  -Inf :   2*x[2,5] - 8*x[3,5] :   0.0 :   True\n",
      "          6 :  -Inf :   2*x[2,6] - 8*x[3,6] :   0.0 :   True\n",
      "          7 :  -Inf :   2*x[2,7] - 8*x[3,7] :   0.0 :   True\n",
      "          8 :  -Inf :   2*x[2,8] - 8*x[3,8] :   0.0 :   True\n",
      "          9 :  -Inf :   2*x[2,9] - 8*x[3,9] :   0.0 :   True\n",
      "         10 :  -Inf : 2*x[2,10] - 8*x[3,10] :   0.0 :   True\n",
      "    C2 : Size=8, Index=C2_index, Active=True\n",
      "        Key : Lower : Body                         : Upper : Active\n",
      "          1 :   1.0 :   x[2,3] - 2*x[3,1] + x[4,3] :  +Inf :   True\n",
      "          2 :   1.0 :   x[2,4] - 2*x[3,2] + x[4,4] :  +Inf :   True\n",
      "          3 :   1.0 :   x[2,5] - 2*x[3,3] + x[4,5] :  +Inf :   True\n",
      "          4 :   1.0 :   x[2,6] - 2*x[3,4] + x[4,6] :  +Inf :   True\n",
      "          5 :   1.0 :   x[2,7] - 2*x[3,5] + x[4,7] :  +Inf :   True\n",
      "          6 :   1.0 :   x[2,8] - 2*x[3,6] + x[4,8] :  +Inf :   True\n",
      "          7 :   1.0 :   x[2,9] - 2*x[3,7] + x[4,9] :  +Inf :   True\n",
      "          8 :   1.0 : x[2,10] - 2*x[3,8] + x[4,10] :  +Inf :   True\n",
      "    C3 : Size=10, Index=C3_index, Active=True\n",
      "        Key : Lower : Body                                  : Upper : Active\n",
      "          1 :  -Inf :     x[1,1] + x[2,1] + x[3,1] + x[4,1] :  50.0 :   True\n",
      "          2 :  -Inf :     x[1,2] + x[2,2] + x[3,2] + x[4,2] :  50.0 :   True\n",
      "          3 :  -Inf :     x[1,3] + x[2,3] + x[3,3] + x[4,3] :  50.0 :   True\n",
      "          4 :  -Inf :     x[1,4] + x[2,4] + x[3,4] + x[4,4] :  50.0 :   True\n",
      "          5 :  -Inf :     x[1,5] + x[2,5] + x[3,5] + x[4,5] :  50.0 :   True\n",
      "          6 :  -Inf :     x[1,6] + x[2,6] + x[3,6] + x[4,6] :  50.0 :   True\n",
      "          7 :  -Inf :     x[1,7] + x[2,7] + x[3,7] + x[4,7] :  50.0 :   True\n",
      "          8 :  -Inf :     x[1,8] + x[2,8] + x[3,8] + x[4,8] :  50.0 :   True\n",
      "          9 :  -Inf :     x[1,9] + x[2,9] + x[3,9] + x[4,9] :  50.0 :   True\n",
      "         10 :  -Inf : x[1,10] + x[2,10] + x[3,10] + x[4,10] :  50.0 :   True\n",
      "    C4 : Size=9, Index=C4_index, Active=True\n",
      "        Key : Lower : Body                                 : Upper : Active\n",
      "          1 :  -Inf :    x[1,2] + x[2,1] + x[3,2] + x[4,2] :  10.0 :   True\n",
      "          2 :  -Inf :    x[1,3] + x[2,2] + x[3,3] + x[4,3] :  10.0 :   True\n",
      "          3 :  -Inf :    x[1,4] + x[2,3] + x[3,4] + x[4,4] :  10.0 :   True\n",
      "          4 :  -Inf :    x[1,5] + x[2,4] + x[3,5] + x[4,5] :  10.0 :   True\n",
      "          5 :  -Inf :    x[1,6] + x[2,5] + x[3,6] + x[4,6] :  10.0 :   True\n",
      "          6 :  -Inf :    x[1,7] + x[2,6] + x[3,7] + x[4,7] :  10.0 :   True\n",
      "          7 :  -Inf :    x[1,8] + x[2,7] + x[3,8] + x[4,8] :  10.0 :   True\n",
      "          8 :  -Inf :    x[1,9] + x[2,8] + x[3,9] + x[4,9] :  10.0 :   True\n",
      "          9 :  -Inf : x[1,10] + x[2,9] + x[3,10] + x[4,10] :  10.0 :   True\n",
      "\n",
      "13 Declarations: x_index_0 x_index_1 x_index x obj C1_index C1 C2_index C2 C3_index C3 C4_index C4\n"
     ]
    }
   ],
   "metadata": {}
  },
  {
   "cell_type": "code",
   "execution_count": 94,
   "source": [
    "#model.C5 = pyo.ConstraintList()\r\n",
    "#for m in range(1,5):\r\n",
    "#    for t in range(1,11):\r\n",
    "#        model.C5.add(expr = x[m,t] <= 10)\r\n",
    "#        model.C5.add(expr = x[m,t] >= 0)"
   ],
   "outputs": [],
   "metadata": {}
  },
  {
   "cell_type": "code",
   "execution_count": 95,
   "source": [
    "opt = SolverFactory('gurobi')\r\n",
    "\r\n",
    "#Solve model and check solver progress\r\n",
    "opt.solve(model, tee=True)"
   ],
   "outputs": [
    {
     "output_type": "execute_result",
     "data": {
      "text/plain": [
       "{'Problem': [{'Name': 'x41', 'Lower bound': 127.0, 'Upper bound': 127.0, 'Number of objectives': 1, 'Number of constraints': 38, 'Number of variables': 41, 'Number of binary variables': 0, 'Number of integer variables': 40, 'Number of continuous variables': 1, 'Number of nonzeros': 121, 'Sense': 'maximize'}], 'Solver': [{'Status': 'ok', 'Return code': '0', 'Message': 'Model was solved to optimality (subject to tolerances), and an optimal solution is available.', 'Termination condition': 'optimal', 'Termination message': 'Model was solved to optimality (subject to tolerances), and an optimal solution is available.', 'Wall time': '1.7493915557861328', 'Error rc': 0, 'Time': 5.698231220245361}], 'Solution': [OrderedDict([('number of solutions', 0), ('number of solutions displayed', 0)])]}"
      ]
     },
     "metadata": {},
     "execution_count": 95
    }
   ],
   "metadata": {}
  },
  {
   "cell_type": "code",
   "execution_count": 96,
   "source": [
    "print([pyo.value(x[m,t]) for m in range(1,5) for t in range(1,11)])"
   ],
   "outputs": [
    {
     "output_type": "stream",
     "name": "stdout",
     "text": [
      "[10.0, -0.0, -0.0, -0.0, -0.0, -0.0, -0.0, -0.0, -0.0, -0.0, -0.0, -0.0, 9.0, 1.0, 0.0, 0.0, 0.0, 0.0, 0.0, 10.0, 7.0, 0.0, 3.0, 1.0, 0.0, 0.0, 0.0, 0.0, 9.0, 10.0, 10.0, 10.0, 7.0, 0.0, 9.0, 10.0, 10.0, 10.0, 1.0, 0.0]\n"
     ]
    }
   ],
   "metadata": {}
  },
  {
   "cell_type": "code",
   "execution_count": 97,
   "source": [
    "print(pyo.value(pyo.summation(x)))"
   ],
   "outputs": [
    {
     "output_type": "stream",
     "name": "stdout",
     "text": [
      "127.0\n"
     ]
    }
   ],
   "metadata": {}
  },
  {
   "cell_type": "code",
   "execution_count": 98,
   "source": [
    "#OR\r\n",
    "pyo.value(model.obj)"
   ],
   "outputs": [
    {
     "output_type": "execute_result",
     "data": {
      "text/plain": [
       "127.0"
      ]
     },
     "metadata": {},
     "execution_count": 98
    }
   ],
   "metadata": {}
  }
 ],
 "metadata": {
  "orig_nbformat": 4,
  "language_info": {
   "name": "python",
   "version": "3.7.6",
   "mimetype": "text/x-python",
   "codemirror_mode": {
    "name": "ipython",
    "version": 3
   },
   "pygments_lexer": "ipython3",
   "nbconvert_exporter": "python",
   "file_extension": ".py"
  },
  "kernelspec": {
   "name": "python3",
   "display_name": "Python 3.7.6 64-bit ('base': conda)"
  },
  "interpreter": {
   "hash": "60062bfbbdb55d7c70b884c78dba17d93f7bddb21846b67229a99cf865725014"
  }
 },
 "nbformat": 4,
 "nbformat_minor": 2
}